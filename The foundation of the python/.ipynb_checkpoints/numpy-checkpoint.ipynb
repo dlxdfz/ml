{
 "cells": [
  {
   "cell_type": "markdown",
   "metadata": {},
   "source": [
    "# 导入包"
   ]
  },
  {
   "cell_type": "code",
   "execution_count": 1,
   "metadata": {
    "collapsed": true
   },
   "outputs": [],
   "source": [
    "import numpy as np"
   ]
  },
  {
   "cell_type": "markdown",
   "metadata": {},
   "source": [
    "# numpy中的matrix和array的区别  \n",
    "[csdn博客参考](http://blog.csdn.net/vincentlipan/article/details/20717163)"
   ]
  },
  {
   "cell_type": "markdown",
   "metadata": {},
   "source": [
    "## 相同  \n",
    "矩阵matrix必须是2维的，但是数组array可以使多维的。可以说matrix是array的分之，包含array的所有特性，即方法。可以理解维matrix继承与array，但matrix又有自己的独特的使用方法。  "
   ]
  },
  {
   "cell_type": "markdown",
   "metadata": {},
   "source": [
    "## 不同   \n",
    "mat可以简单使用乘法运算符号，mat还有方法.I求矩阵的逆，方法.H求矩阵的共轭矩阵，也有array的.T求转置。"
   ]
  },
  {
   "cell_type": "code",
   "execution_count": 29,
   "metadata": {},
   "outputs": [
    {
     "name": "stdout",
     "output_type": "stream",
     "text": [
      "A*B is [[ 7 10]\n",
      " [15 22]], and type is <class 'numpy.matrixlib.defmatrix.matrix'>\n",
      "np.multiply(A, B) is [[ 1  4]\n",
      " [ 9 16]], and type is <class 'numpy.matrixlib.defmatrix.matrix'>\n"
     ]
    }
   ],
   "source": [
    "A = np.mat([[1,2],[3,4]])\n",
    "B = np.mat([[1,2],[3,4]])\n",
    "print('A*B is {}, and type is {}'.format(A*B, type(A*B)))\n",
    "print('np.multiply(A, B) is {}, and type is {}'.format(np.multiply(A, B), type(np.multiply(A,B))))"
   ]
  },
  {
   "cell_type": "code",
   "execution_count": 28,
   "metadata": {},
   "outputs": [
    {
     "name": "stdout",
     "output_type": "stream",
     "text": [
      "[[ 7 10]\n",
      " [15 22]]\n",
      "[[ 1  4]\n",
      " [ 9 16]]\n"
     ]
    }
   ],
   "source": [
    "a = np.array([[1,2],[3,4]])\n",
    "b = np.array([[1,2],[3,4]])\n",
    "print(a.dot(b))\n",
    "print(a*b)\n",
    "# array需要使用方法.dot(矢量积)\n",
    "# array*乘法是对应位置上的数进行相乘运算(数量积)"
   ]
  },
  {
   "cell_type": "code",
   "execution_count": 12,
   "metadata": {},
   "outputs": [
    {
     "name": "stdout",
     "output_type": "stream",
     "text": [
      "[[  1.00000000e+00   4.44089210e-16]\n",
      " [  0.00000000e+00   1.00000000e+00]]\n"
     ]
    }
   ],
   "source": [
    "inverseA = A.I\n",
    "print(inverseA*A)"
   ]
  },
  {
   "cell_type": "code",
   "execution_count": 14,
   "metadata": {},
   "outputs": [
    {
     "name": "stdout",
     "output_type": "stream",
     "text": [
      "[[ 7 10]\n",
      " [15 22]]\n",
      "[[ 1  4]\n",
      " [ 9 16]]\n"
     ]
    }
   ],
   "source": [
    "# mat**n相当于矩阵的幂，mat*mat\n",
    "# array**n相当于array中的元素逐个求平方\n",
    "print(A**2)\n",
    "print(a**2)"
   ]
  },
  {
   "cell_type": "markdown",
   "metadata": {},
   "source": [
    "## matrix和array之间的转换"
   ]
  },
  {
   "cell_type": "code",
   "execution_count": 15,
   "metadata": {},
   "outputs": [
    {
     "name": "stdout",
     "output_type": "stream",
     "text": [
      "<class 'numpy.matrixlib.defmatrix.matrix'>\n"
     ]
    }
   ],
   "source": [
    "A = np.mat([1,2])\n",
    "print(type(A))"
   ]
  },
  {
   "cell_type": "code",
   "execution_count": 18,
   "metadata": {},
   "outputs": [
    {
     "name": "stdout",
     "output_type": "stream",
     "text": [
      "A's type is <class 'numpy.matrixlib.defmatrix.matrix'>\n",
      "B's type is <class 'numpy.ndarray'>\n",
      "C's type is <class 'numpy.matrixlib.defmatrix.matrix'>\n"
     ]
    }
   ],
   "source": [
    "B = np.asarray(A)\n",
    "C = np.asmatrix(B)\n",
    "print('A\\'s type is {}'.format(type(A)))\n",
    "print('B\\'s type is {}'.format(type(B)))\n",
    "print('C\\'s type is {}'.format(type(C)))"
   ]
  },
  {
   "cell_type": "markdown",
   "metadata": {},
   "source": [
    "## 注意"
   ]
  },
  {
   "cell_type": "markdown",
   "metadata": {},
   "source": [
    "mat不论做什么操作，总保持为2维，而数组并不一定。"
   ]
  },
  {
   "cell_type": "code",
   "execution_count": 25,
   "metadata": {},
   "outputs": [
    {
     "name": "stdout",
     "output_type": "stream",
     "text": [
      "mm is [[ 2.  3.]], and mm's shape is (1, 2)\n"
     ]
    }
   ],
   "source": [
    "m = np.mat([[1,2],[3,4]])\n",
    "mm = m.mean(0)\n",
    "print('mm is {}, and mm\\'s shape is {}'.format(mm, mm.shape))"
   ]
  },
  {
   "cell_type": "code",
   "execution_count": 26,
   "metadata": {},
   "outputs": [
    {
     "data": {
      "text/plain": [
       "matrix([[-1., -1.],\n",
       "        [ 1.,  1.]])"
      ]
     },
     "execution_count": 26,
     "metadata": {},
     "output_type": "execute_result"
    }
   ],
   "source": [
    "# mat做减法时会自动扩展\n",
    "m - mm"
   ]
  },
  {
   "cell_type": "code",
   "execution_count": 27,
   "metadata": {},
   "outputs": [
    {
     "name": "stdout",
     "output_type": "stream",
     "text": [
      "am is [ 2.  3.], and am's shape is (2,)\n"
     ]
    }
   ],
   "source": [
    "a = np.array([[1,2],[3,4]])\n",
    "am = a.mean(0)\n",
    "print('am is {}, and am\\'s shape is {}'.format(am, am.shape))"
   ]
  },
  {
   "cell_type": "code",
   "execution_count": null,
   "metadata": {
    "collapsed": true
   },
   "outputs": [],
   "source": []
  }
 ],
 "metadata": {
  "kernelspec": {
   "display_name": "Python 3",
   "language": "python",
   "name": "python3"
  },
  "language_info": {
   "codemirror_mode": {
    "name": "ipython",
    "version": 3
   },
   "file_extension": ".py",
   "mimetype": "text/x-python",
   "name": "python",
   "nbconvert_exporter": "python",
   "pygments_lexer": "ipython3",
   "version": "3.6.1"
  },
  "toc": {
   "colors": {
    "hover_highlight": "#DAA520",
    "navigate_num": "#000000",
    "navigate_text": "#333333",
    "running_highlight": "#FF0000",
    "selected_highlight": "#FFD700",
    "sidebar_border": "#EEEEEE",
    "wrapper_background": "#FFFFFF"
   },
   "moveMenuLeft": true,
   "nav_menu": {
    "height": "120px",
    "width": "252px"
   },
   "navigate_menu": true,
   "number_sections": true,
   "sideBar": true,
   "threshold": 4,
   "toc_cell": false,
   "toc_section_display": "block",
   "toc_window_display": true,
   "widenNotebook": false
  }
 },
 "nbformat": 4,
 "nbformat_minor": 2
}

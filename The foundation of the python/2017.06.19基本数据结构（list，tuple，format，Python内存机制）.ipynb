{
 "cells": [
  {
   "cell_type": "code",
   "execution_count": null,
   "metadata": {
    "collapsed": true
   },
   "outputs": [],
   "source": []
  },
  {
   "cell_type": "markdown",
   "metadata": {},
   "source": [
    "# 导入包"
   ]
  },
  {
   "cell_type": "code",
   "execution_count": 1,
   "metadata": {
    "collapsed": true
   },
   "outputs": [],
   "source": [
    "import sys"
   ]
  },
  {
   "cell_type": "markdown",
   "metadata": {},
   "source": [
    "# list"
   ]
  },
  {
   "cell_type": "markdown",
   "metadata": {},
   "source": [
    "## 隔一定的间距提取元素"
   ]
  },
  {
   "cell_type": "code",
   "execution_count": 2,
   "metadata": {},
   "outputs": [
    {
     "name": "stdout",
     "output_type": "stream",
     "text": [
      "[0, 2, 4, 6, 8]\n"
     ]
    }
   ],
   "source": [
    "test = range(10)\n",
    "print test[0:10:2]"
   ]
  },
  {
   "cell_type": "code",
   "execution_count": 8,
   "metadata": {},
   "outputs": [
    {
     "data": {
      "text/plain": [
       "[0, 1, 2, 3, 4, 5, 6, 7, 8]"
      ]
     },
     "execution_count": 8,
     "metadata": {},
     "output_type": "execute_result"
    }
   ],
   "source": [
    "test[0:-1]"
   ]
  },
  {
   "cell_type": "markdown",
   "metadata": {},
   "source": [
    "## str也可以当做数组访问"
   ]
  },
  {
   "cell_type": "code",
   "execution_count": 13,
   "metadata": {},
   "outputs": [
    {
     "name": "stdout",
     "output_type": "stream",
     "text": [
      "ha\n"
     ]
    }
   ],
   "source": [
    "myStr = 'nihao'\n",
    "print myStr[2:4]"
   ]
  },
  {
   "cell_type": "markdown",
   "metadata": {},
   "source": [
    "## 数组中是否包含某一个元素"
   ]
  },
  {
   "cell_type": "code",
   "execution_count": 12,
   "metadata": {},
   "outputs": [
    {
     "name": "stdout",
     "output_type": "stream",
     "text": [
      "True\n",
      "False\n"
     ]
    }
   ],
   "source": [
    "test = range(10)\n",
    "print 5 in test\n",
    "print 10 in test"
   ]
  },
  {
   "cell_type": "markdown",
   "metadata": {},
   "source": [
    "# 函数"
   ]
  },
  {
   "cell_type": "markdown",
   "metadata": {},
   "source": [
    "## 函数多个返回值，返回一个tuple"
   ]
  },
  {
   "cell_type": "code",
   "execution_count": 16,
   "metadata": {},
   "outputs": [
    {
     "name": "stdout",
     "output_type": "stream",
     "text": [
      "(1, 2, 3)\n",
      "<type 'tuple'>\n"
     ]
    }
   ],
   "source": [
    "def testFun():\n",
    "    a = 1\n",
    "    b = 2\n",
    "    c = 3\n",
    "    return a, b, c\n",
    "x = testFun()\n",
    "print x\n",
    "print type(x)"
   ]
  },
  {
   "cell_type": "markdown",
   "metadata": {},
   "source": [
    "# tuple"
   ]
  },
  {
   "cell_type": "code",
   "execution_count": 20,
   "metadata": {
    "collapsed": true
   },
   "outputs": [],
   "source": [
    "x = (1,2,3)\n",
    "\n",
    "# tuple有两个操作\n",
    "x.count(1)\n",
    "# 1\n",
    "x.count(4)\n",
    "# 0\n",
    "x.index(1)\n",
    "# 0\n",
    "\n",
    "# x[1] = 4\n",
    "# tuple 元组定义好以后，只能读，不能更改"
   ]
  },
  {
   "cell_type": "code",
   "execution_count": 25,
   "metadata": {},
   "outputs": [
    {
     "data": {
      "text/plain": [
       "int"
      ]
     },
     "execution_count": 25,
     "metadata": {},
     "output_type": "execute_result"
    }
   ],
   "source": [
    "type(x[0])"
   ]
  },
  {
   "cell_type": "markdown",
   "metadata": {},
   "source": [
    "# format函数  \n",
    "增强的格式化字符串函数  \n",
    "python2.6以后新增了一种格式化字符串的函数str.format()  \n",
    "可以参考[菜鸟教程](http://www.runoob.com/python/att-string-format.html)"
   ]
  },
  {
   "cell_type": "markdown",
   "metadata": {},
   "source": [
    "## {}代替%"
   ]
  },
  {
   "cell_type": "code",
   "execution_count": 59,
   "metadata": {},
   "outputs": [
    {
     "data": {
      "text/plain": [
       "'hello world!'"
      ]
     },
     "execution_count": 59,
     "metadata": {},
     "output_type": "execute_result"
    }
   ],
   "source": [
    "'hello {}'.format('world!')"
   ]
  },
  {
   "cell_type": "markdown",
   "metadata": {},
   "source": [
    "## 映射"
   ]
  },
  {
   "cell_type": "markdown",
   "metadata": {},
   "source": [
    "### 参数位置"
   ]
  },
  {
   "cell_type": "code",
   "execution_count": 61,
   "metadata": {},
   "outputs": [
    {
     "data": {
      "text/plain": [
       "'1,2,3,2,1'"
      ]
     },
     "execution_count": 61,
     "metadata": {},
     "output_type": "execute_result"
    }
   ],
   "source": [
    "'{0},{1},{2},{1},{0}'.format(1, 2, 3)"
   ]
  },
  {
   "cell_type": "markdown",
   "metadata": {},
   "source": [
    "### 关键字参数"
   ]
  },
  {
   "cell_type": "code",
   "execution_count": 62,
   "metadata": {},
   "outputs": [
    {
     "data": {
      "text/plain": [
       "'I am Bob, I am 20 years old.'"
      ]
     },
     "execution_count": 62,
     "metadata": {},
     "output_type": "execute_result"
    }
   ],
   "source": [
    "'I am {name}, I am {age} years old.'.format(name='Bob', age=20)"
   ]
  },
  {
   "cell_type": "markdown",
   "metadata": {},
   "source": [
    "### 对象属性"
   ]
  },
  {
   "cell_type": "code",
   "execution_count": 87,
   "metadata": {
    "collapsed": true
   },
   "outputs": [],
   "source": [
    "class person():\n",
    "    def __init__(self, name='Bob', age=20):\n",
    "        self.name = name\n",
    "        self.age = age\n",
    "        \n",
    "    # __str__函数用于显示类信息，属于重写\n",
    "    def __str__(self):\n",
    "            return 'This guy is {person.name}, is {person.age} years old.'.format(person=self)"
   ]
  },
  {
   "cell_type": "code",
   "execution_count": 88,
   "metadata": {},
   "outputs": [
    {
     "data": {
      "text/plain": [
       "'I am Bob, I am 20 years old.'"
      ]
     },
     "execution_count": 88,
     "metadata": {},
     "output_type": "execute_result"
    }
   ],
   "source": [
    "Bob = person()\n",
    "'I am {person.name}, I am {person.age} years old.'.format(person=Bob)"
   ]
  },
  {
   "cell_type": "code",
   "execution_count": 89,
   "metadata": {},
   "outputs": [
    {
     "name": "stdout",
     "output_type": "stream",
     "text": [
      "This guy is Bob, is 20 years old.\n"
     ]
    }
   ],
   "source": [
    "Bob = person()\n",
    "print Bob"
   ]
  },
  {
   "cell_type": "markdown",
   "metadata": {},
   "source": [
    "### 位置下标， 参数下标"
   ]
  },
  {
   "cell_type": "code",
   "execution_count": 93,
   "metadata": {},
   "outputs": [
    {
     "name": "stdout",
     "output_type": "stream",
     "text": [
      "0, x, 1, y\n",
      "0, y\n"
     ]
    }
   ],
   "source": [
    "a = range(2)\n",
    "b = ['x', 'y']\n",
    "print '{0[0]}, {1[0]}, {0[1]}, {1[1]}'.format(a, b)\n",
    "print '{a[0]}, {b[1]}'.format(a=a, b=b)"
   ]
  },
  {
   "cell_type": "markdown",
   "metadata": {},
   "source": [
    "## 格式限定符"
   ]
  },
  {
   "cell_type": "markdown",
   "metadata": {},
   "source": [
    "### {:0>10}填充与对齐  \n",
    "填充常跟对齐一起使用  \n",
    "^、<、>分别是居中、左对齐、右对齐，后面带宽度  \n",
    ":号后面带填充的字符，只能是一个字符，不指定的话默认是用空格填充  "
   ]
  },
  {
   "cell_type": "code",
   "execution_count": 95,
   "metadata": {},
   "outputs": [
    {
     "name": "stdout",
     "output_type": "stream",
     "text": [
      "111  , 123  \n",
      "111aa, 123aa\n",
      "bb111, bb123\n",
      "c111c, c123c\n"
     ]
    }
   ],
   "source": [
    "print '{:<5}, {:<5}'.format(111, 123)\n",
    "print '{:a<5}, {:a<5}'.format(111, 123)\n",
    "print '{:b>5}, {:b>5}'.format(111, 123)\n",
    "print '{:c^5}, {:c^5}'.format(111, 123)"
   ]
  },
  {
   "cell_type": "markdown",
   "metadata": {},
   "source": [
    "### {:.2f}精度显示"
   ]
  },
  {
   "cell_type": "code",
   "execution_count": 99,
   "metadata": {},
   "outputs": [
    {
     "name": "stdout",
     "output_type": "stream",
     "text": [
      "12.12, 23.23\n"
     ]
    }
   ],
   "source": [
    "print '{:.2f}, {:.2f}'.format(12.1234, 23.2345)"
   ]
  },
  {
   "cell_type": "markdown",
   "metadata": {},
   "source": [
    "### {:b}d,b,o,x进制转换显示"
   ]
  },
  {
   "cell_type": "code",
   "execution_count": 101,
   "metadata": {},
   "outputs": [
    {
     "name": "stdout",
     "output_type": "stream",
     "text": [
      "10001\n",
      "17\n",
      "21\n",
      "11\n"
     ]
    }
   ],
   "source": [
    "print '{:b}'.format(17)\n",
    "print '{:d}'.format(17)\n",
    "print '{:o}'.format(17)\n",
    "print '{:x}'.format(17)"
   ]
  },
  {
   "cell_type": "markdown",
   "metadata": {},
   "source": [
    "### 显示{}"
   ]
  },
  {
   "cell_type": "code",
   "execution_count": 103,
   "metadata": {},
   "outputs": [
    {
     "name": "stdout",
     "output_type": "stream",
     "text": [
      "nihao,{0}\n"
     ]
    }
   ],
   "source": [
    "print '{},{{0}}'.format('nihao') "
   ]
  },
  {
   "cell_type": "markdown",
   "metadata": {},
   "source": [
    "### {:,}，每隔3位画逗号"
   ]
  },
  {
   "cell_type": "code",
   "execution_count": 108,
   "metadata": {},
   "outputs": [
    {
     "name": "stdout",
     "output_type": "stream",
     "text": [
      "65,536\n"
     ]
    }
   ],
   "source": [
    "print '{:,}'.format(2**16)"
   ]
  },
  {
   "cell_type": "markdown",
   "metadata": {},
   "source": [
    "<div class=\"burk\">\n",
    "### 如何组合显示</div><i class=\"fa fa-lightbulb-o \"></i>"
   ]
  },
  {
   "cell_type": "code",
   "execution_count": null,
   "metadata": {
    "collapsed": true
   },
   "outputs": [],
   "source": [
    "# 如何又限制精度，又打印规定长度\n",
    "# print '{:}'"
   ]
  },
  {
   "cell_type": "markdown",
   "metadata": {},
   "source": [
    "# 其他问题"
   ]
  },
  {
   "cell_type": "markdown",
   "metadata": {},
   "source": [
    "## sys.getsizeof()查看变量占用的内存大小  \n",
    "在c语言中提供了sizeof可以用来查看一个变量占用的空间大小，在python中可以使用sys模块下的getsizeof方法来判断变量占用的空间大小"
   ]
  },
  {
   "cell_type": "code",
   "execution_count": 105,
   "metadata": {
    "collapsed": true
   },
   "outputs": [],
   "source": [
    "def getInfoOfObject(obj):\n",
    "    print type(obj)\n",
    "    print sys.getsizeof(obj) # 返回值是bytes，字节数"
   ]
  },
  {
   "cell_type": "code",
   "execution_count": 106,
   "metadata": {},
   "outputs": [
    {
     "name": "stdout",
     "output_type": "stream",
     "text": [
      "<type 'tuple'>\n",
      "72\n"
     ]
    }
   ],
   "source": [
    "testTuple = (0,1,2)\n",
    "getInfoOfObject(testTuple)"
   ]
  },
  {
   "cell_type": "markdown",
   "metadata": {},
   "source": [
    "### int型初始化给了24个字节！！！"
   ]
  },
  {
   "cell_type": "code",
   "execution_count": 107,
   "metadata": {},
   "outputs": [
    {
     "name": "stdout",
     "output_type": "stream",
     "text": [
      "<type 'int'>\n",
      "24\n"
     ]
    }
   ],
   "source": [
    "testInt = 1\n",
    "getInfoOfObject(testInt)"
   ]
  },
  {
   "cell_type": "markdown",
   "metadata": {},
   "source": [
    "### 字符编码占一个字节"
   ]
  },
  {
   "cell_type": "code",
   "execution_count": 108,
   "metadata": {},
   "outputs": [
    {
     "name": "stdout",
     "output_type": "stream",
     "text": [
      "<type 'str'>\n",
      "33\n",
      "<type 'str'>\n",
      "34\n",
      "<type 'str'>\n",
      "35\n"
     ]
    }
   ],
   "source": [
    "testStr = ''\n",
    "getInfoOfObject(testStr)\n",
    "testStr = '1'\n",
    "getInfoOfObject(testStr)\n",
    "testStr = '12'\n",
    "getInfoOfObject(testStr)"
   ]
  },
  {
   "cell_type": "markdown",
   "metadata": {},
   "source": [
    "### 中文编码占3个字节"
   ]
  },
  {
   "cell_type": "code",
   "execution_count": 111,
   "metadata": {},
   "outputs": [
    {
     "name": "stdout",
     "output_type": "stream",
     "text": [
      "<type 'str'>\n",
      "39\n",
      "<type 'str'>\n",
      "36\n",
      "你好\n"
     ]
    },
    {
     "data": {
      "text/plain": [
       "'\\xe4\\xbd\\xa0\\xe5\\xa5\\xbd'"
      ]
     },
     "execution_count": 111,
     "metadata": {},
     "output_type": "execute_result"
    }
   ],
   "source": [
    "testStr = '你好'\n",
    "getInfoOfObject(testStr)\n",
    "testStr = '你'\n",
    "getInfoOfObject(testStr)\n",
    "print '你好'\n",
    "'你好'\n",
    "# 设置默认的编码是utf-8编码，忘了什么时候改的，以及怎么改的-_-\n",
    "# 直接输出的时候，不会解码\n",
    "# print 函数输出的时候，会解码输出"
   ]
  },
  {
   "cell_type": "markdown",
   "metadata": {},
   "source": [
    "## python内存机制"
   ]
  },
  {
   "cell_type": "markdown",
   "metadata": {},
   "source": [
    "### [-5, 256]内存地址固定，静态分配"
   ]
  },
  {
   "cell_type": "code",
   "execution_count": 13,
   "metadata": {},
   "outputs": [
    {
     "data": {
      "text/plain": [
       "24L"
      ]
     },
     "execution_count": 13,
     "metadata": {},
     "output_type": "execute_result"
    }
   ],
   "source": [
    "id(255) - id(256)\n",
    "# int型变量的大小，24字节"
   ]
  },
  {
   "cell_type": "code",
   "execution_count": 28,
   "metadata": {},
   "outputs": [
    {
     "name": "stdout",
     "output_type": "stream",
     "text": [
      "0x676bd8L\n",
      "0x676bd8L\n"
     ]
    }
   ],
   "source": [
    "a = 1\n",
    "print hex(id(a))\n",
    "b = 1\n",
    "print hex(id(b))\n",
    "# 分配一样的地址"
   ]
  },
  {
   "cell_type": "markdown",
   "metadata": {},
   "source": [
    "### 超过[-5, 256]则分配不一样的地址"
   ]
  },
  {
   "cell_type": "code",
   "execution_count": 38,
   "metadata": {},
   "outputs": [
    {
     "name": "stdout",
     "output_type": "stream",
     "text": [
      "0x2f99930L\n",
      "0x3133f18L\n"
     ]
    }
   ],
   "source": [
    "a = 257\n",
    "print hex(id(a))\n",
    "# ab分配的地址不一样\n",
    "b = 257\n",
    "print hex(id(b))"
   ]
  },
  {
   "cell_type": "code",
   "execution_count": 39,
   "metadata": {},
   "outputs": [
    {
     "name": "stdout",
     "output_type": "stream",
     "text": [
      "0x3133f00L\n"
     ]
    }
   ],
   "source": [
    "a += 1\n",
    "print hex(id(a))\n",
    "# 发现a的地址发生了改变，说明a指针指向了一个新的对象。\n",
    "# 这样会不会容易造成内存的溢出？\n",
    "# 为什么不直接在原来的对象改变？"
   ]
  },
  {
   "cell_type": "code",
   "execution_count": 50,
   "metadata": {},
   "outputs": [
    {
     "name": "stdout",
     "output_type": "stream",
     "text": [
      "0x3404b60L\n",
      "0x3404218L\n",
      "0x34041e8L\n"
     ]
    }
   ],
   "source": [
    "# 似乎先来的变量占用内存位置较大的位置，后来的变量占用位置小的位置\n",
    "print hex(id(257))\n",
    "print hex(id(257+1))\n",
    "print hex(id(257+1))"
   ]
  },
  {
   "cell_type": "markdown",
   "metadata": {},
   "source": [
    "### 不同对象分配位置测试"
   ]
  },
  {
   "cell_type": "code",
   "execution_count": 109,
   "metadata": {
    "collapsed": true
   },
   "outputs": [],
   "source": [
    "test = [[], 1, 0.5, 2**32, (), {}]\n",
    "name = ['list', 'int', 'float', 'long', 'tuple', 'dict']"
   ]
  },
  {
   "cell_type": "code",
   "execution_count": 110,
   "metadata": {},
   "outputs": [
    {
     "name": "stdout",
     "output_type": "stream",
     "text": [
      "list  , position in 0x54f4388L, size is 64\n",
      "int   , position in 0x676bd8L , size is 24\n",
      "float , position in 0x3339a70L, size is 24\n",
      "long  , position in 0x5568070L, size is 32\n",
      "tuple , position in 0x621048L , size is 48\n",
      "dict  , position in 0x3607488L, size is 272\n"
     ]
    }
   ],
   "source": [
    "for i in test:\n",
    "    index = test.index(i)\n",
    "    print '{:<6}, position in {:<10}, size is {:<}'.format(name[index], hex(id(i)), sys.getsizeof(i))"
   ]
  },
  {
   "cell_type": "code",
   "execution_count": 53,
   "metadata": {},
   "outputs": [
    {
     "data": {
      "text/plain": [
       "'0x676bd8L'"
      ]
     },
     "execution_count": 53,
     "metadata": {},
     "output_type": "execute_result"
    }
   ],
   "source": [
    "hex(id(1))"
   ]
  },
  {
   "cell_type": "markdown",
   "metadata": {},
   "source": [
    "### 内存溢出测试"
   ]
  },
  {
   "cell_type": "code",
   "execution_count": 111,
   "metadata": {
    "collapsed": true
   },
   "outputs": [],
   "source": [
    "position = []\n",
    "position.append(hex(id(position)))"
   ]
  },
  {
   "cell_type": "code",
   "execution_count": 117,
   "metadata": {},
   "outputs": [
    {
     "name": "stdout",
     "output_type": "stream",
     "text": [
      "5\n"
     ]
    }
   ],
   "source": [
    "i = 1\n",
    "while i>0:\n",
    "    testStr = [i]\n",
    "    if position.count(hex(id(testStr)))==0:\n",
    "        position.append(hex(id(testStr)))\n",
    "    else:\n",
    "        print len(position)\n",
    "        break"
   ]
  },
  {
   "cell_type": "code",
   "execution_count": 118,
   "metadata": {},
   "outputs": [
    {
     "data": {
      "text/plain": [
       "['0x5427a88L', '0x3eb0f48L', '0x3eb0ec8L', '0x54f4748L', '0x54f43c8L']"
      ]
     },
     "execution_count": 118,
     "metadata": {},
     "output_type": "execute_result"
    }
   ],
   "source": [
    "position"
   ]
  },
  {
   "cell_type": "code",
   "execution_count": 131,
   "metadata": {
    "collapsed": true
   },
   "outputs": [],
   "source": [
    "a = (1,2,3,4,5)"
   ]
  },
  {
   "cell_type": "code",
   "execution_count": 134,
   "metadata": {},
   "outputs": [
    {
     "data": {
      "text/plain": [
       "(700, 10, 10)"
      ]
     },
     "execution_count": 134,
     "metadata": {},
     "output_type": "execute_result"
    }
   ],
   "source": [
    "import gc\n",
    "gc.get_threshold()"
   ]
  },
  {
   "cell_type": "markdown",
   "metadata": {
    "collapsed": true
   },
   "source": [
    "# if语法"
   ]
  },
  {
   "cell_type": "markdown",
   "metadata": {},
   "source": [
    "## if简写"
   ]
  },
  {
   "cell_type": "code",
   "execution_count": 1,
   "metadata": {},
   "outputs": [
    {
     "name": "stdout",
     "output_type": "stream",
     "text": [
      "4\n"
     ]
    }
   ],
   "source": [
    "a = 1 if 2==3 else 4\n",
    "print(a)"
   ]
  }
 ],
 "metadata": {
  "kernelspec": {
   "display_name": "Python 3",
   "language": "python",
   "name": "python3"
  },
  "language_info": {
   "codemirror_mode": {
    "name": "ipython",
    "version": 3
   },
   "file_extension": ".py",
   "mimetype": "text/x-python",
   "name": "python",
   "nbconvert_exporter": "python",
   "pygments_lexer": "ipython3",
   "version": "3.6.1"
  },
  "toc": {
   "colors": {
    "hover_highlight": "#DAA520",
    "navigate_num": "#000000",
    "navigate_text": "#333333",
    "running_highlight": "#FF0000",
    "selected_highlight": "#FFD700",
    "sidebar_border": "#EEEEEE",
    "wrapper_background": "#FFFFFF"
   },
   "moveMenuLeft": true,
   "nav_menu": {
    "height": "281px",
    "width": "252px"
   },
   "navigate_menu": true,
   "number_sections": true,
   "sideBar": true,
   "threshold": 4,
   "toc_cell": false,
   "toc_position": {
    "height": "569px",
    "left": "0px",
    "right": "1166px",
    "top": "106px",
    "width": "200px"
   },
   "toc_section_display": "block",
   "toc_window_display": true,
   "widenNotebook": false
  }
 },
 "nbformat": 4,
 "nbformat_minor": 2
}

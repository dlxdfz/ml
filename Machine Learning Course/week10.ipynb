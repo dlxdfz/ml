{
 "cells": [
  {
   "cell_type": "markdown",
   "metadata": {},
   "source": [
    "# Large Scale Machine Learning"
   ]
  },
  {
   "cell_type": "markdown",
   "metadata": {},
   "source": [
    "## 系统性能"
   ]
  },
  {
   "cell_type": "markdown",
   "metadata": {},
   "source": [
    "系统的性能不取决于最优的算法，而是取决于数据量"
   ]
  },
  {
   "cell_type": "markdown",
   "metadata": {},
   "source": [
    "## 小数据集合 vs 大数据集"
   ]
  },
  {
   "cell_type": "markdown",
   "metadata": {},
   "source": [
    "画出learning curve，学习曲线，观察Jtrain和Jcv二者之间的间距随着数据量的变化"
   ]
  },
  {
   "cell_type": "markdown",
   "metadata": {},
   "source": [
    "# Stochastic Gradient Descent"
   ]
  },
  {
   "cell_type": "markdown",
   "metadata": {},
   "source": [
    "## 计算问题"
   ]
  },
  {
   "cell_type": "markdown",
   "metadata": {},
   "source": [
    "- （批量学习Batch）计算代价随着数据量增加\n",
    "- 考虑单步学习，一次次考虑单样本，局部修改参数\n",
    "- 注意：每次迭代完成后，对训练样本打乱（randomly shuffle）\n",
    "- 数据很大时，e.g. 100,000,000，迭代次数1-10次"
   ]
  },
  {
   "cell_type": "markdown",
   "metadata": {},
   "source": [
    "## 收敛问题"
   ]
  },
  {
   "cell_type": "markdown",
   "metadata": {},
   "source": [
    "- 在训练中间，比如迭代1000次，停止算法，使用整体数据计算Cost，计算代价大\n",
    "- 选取小的训练数据子集，1000或者5000，计算Cost，取均值，查看部分数据Cost随着迭代次数的变化\n",
    "- 数据量越少，噪声越大，数据量越多，曲线越平滑\n",
    "- 学习率随着迭代次数逐渐变小（找学习率和迭代次数合适的关系）  \n",
    "\n",
    "\\begin{align*} \\alpha = \\frac{const1}{iterationNumber + const2} \\end{align*}"
   ]
  },
  {
   "cell_type": "markdown",
   "metadata": {},
   "source": [
    "# Mini-Batch Gradient Descent"
   ]
  },
  {
   "cell_type": "markdown",
   "metadata": {},
   "source": [
    "- 单次迭代没有并行计算，而批量下降计算成本很大\n",
    "- mini-batch，采用小的样本抽样，比如b=10进行参数迭代计算\n",
    "- 目的：加快计算"
   ]
  },
  {
   "cell_type": "markdown",
   "metadata": {},
   "source": [
    "# online learning"
   ]
  },
  {
   "cell_type": "markdown",
   "metadata": {},
   "source": [
    "- 当有足够多的数据，不需要保留固定的数据集进行学习\n",
    "- 从不断变化的数据流中学习参数"
   ]
  },
  {
   "cell_type": "markdown",
   "metadata": {},
   "source": [
    "# Map Reduce and Data Parallelism"
   ]
  },
  {
   "cell_type": "markdown",
   "metadata": {},
   "source": [
    "问题：  \n",
    "- 在多台计算机上同时运行学习算法\n",
    "- 需要解决多台计算机并行计算问题\n",
    "\n",
    "映射约减（map reduce）：  \n",
    "- 将数据集分割成多份，交付给多台计算机计算（多核）\n",
    "- combine results\n",
    "- 求和形式计算\n",
    "\n",
    "平台：  \n",
    "- Hadoop"
   ]
  }
 ],
 "metadata": {
  "kernelspec": {
   "display_name": "Python 3",
   "language": "python",
   "name": "python3"
  },
  "language_info": {
   "codemirror_mode": {
    "name": "ipython",
    "version": 3
   },
   "file_extension": ".py",
   "mimetype": "text/x-python",
   "name": "python",
   "nbconvert_exporter": "python",
   "pygments_lexer": "ipython3",
   "version": "3.6.1"
  },
  "toc": {
   "colors": {
    "hover_highlight": "#DAA520",
    "navigate_num": "#000000",
    "navigate_text": "#333333",
    "running_highlight": "#FF0000",
    "selected_highlight": "#FFD700",
    "sidebar_border": "#EEEEEE",
    "wrapper_background": "#FFFFFF"
   },
   "moveMenuLeft": true,
   "nav_menu": {
    "height": "174px",
    "width": "252px"
   },
   "navigate_menu": true,
   "number_sections": true,
   "sideBar": true,
   "threshold": 4,
   "toc_cell": false,
   "toc_section_display": "block",
   "toc_window_display": true,
   "widenNotebook": false
  }
 },
 "nbformat": 4,
 "nbformat_minor": 2
}

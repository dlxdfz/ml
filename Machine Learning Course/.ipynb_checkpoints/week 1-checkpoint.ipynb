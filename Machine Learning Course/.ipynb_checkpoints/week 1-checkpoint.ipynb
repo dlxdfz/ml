{
 "cells": [
  {
   "cell_type": "markdown",
   "metadata": {},
   "source": [
    "<div class=\"mark\">\n",
    "# What is ML?  \n",
    "使用计算机从数据中学习到知识。</div><i class=\"fa fa-lightbulb-o \"></i>"
   ]
  },
  {
   "cell_type": "markdown",
   "metadata": {},
   "source": [
    "## Arthur Samuel"
   ]
  },
  {
   "cell_type": "markdown",
   "metadata": {},
   "source": [
    "the field of study that gives computers the ability to learn without being explicitly programmed.  \n",
    "This is an older, informal definition"
   ]
  },
  {
   "cell_type": "markdown",
   "metadata": {},
   "source": [
    "## Tom Mitchell"
   ]
  },
  {
   "cell_type": "markdown",
   "metadata": {},
   "source": [
    "A computer program is said to learn from experience E with respect to some class of tasks T and performance measure P, if its performance at tasks in T, as measured by P, improves with experience E."
   ]
  },
  {
   "cell_type": "markdown",
   "metadata": {},
   "source": [
    "# Supervised learning"
   ]
  },
  {
   "cell_type": "markdown",
   "metadata": {},
   "source": [
    "<span class=\"mark\">regression:回归</span>，连续值输出  \n",
    "<span class=\"mark\">classification：</span>离散，不连续  \n",
    "每一个training data有自己的label，即准确结果值"
   ]
  },
  {
   "cell_type": "markdown",
   "metadata": {},
   "source": [
    "# Unsupervised learning"
   ]
  },
  {
   "cell_type": "markdown",
   "metadata": {},
   "source": [
    "dataset without label  \n",
    "<span class=\"mark\">cluster（聚类）  \n",
    "Cocotail party（鸡尾酒算法）</span>  \n",
    "经过不同位置的数据采集器，分离不同的声源。"
   ]
  },
  {
   "cell_type": "markdown",
   "metadata": {},
   "source": [
    "# Model and  Cost function"
   ]
  },
  {
   "cell_type": "markdown",
   "metadata": {},
   "source": [
    "## Model"
   ]
  },
  {
   "cell_type": "markdown",
   "metadata": {},
   "source": [
    "假设(hypothesis)模型  \n",
    "比如线性模型：h(x)=AX（A i.e. parameter）  \n",
    "从给定的数据中，使用学习算法，获得假设模型参数，然后使用模型进行分类或者预测"
   ]
  },
  {
   "cell_type": "markdown",
   "metadata": {},
   "source": [
    "## Cost Function"
   ]
  },
  {
   "cell_type": "markdown",
   "metadata": {},
   "source": [
    "损失函数  \n",
    "∑(h(x) - y)^2  \n",
    "square error function  \n",
    "J(A)=∑(h(x) - y)^2  \n",
    "minimize J(A)"
   ]
  },
  {
   "cell_type": "markdown",
   "metadata": {},
   "source": [
    "# Parameter Learning"
   ]
  },
  {
   "cell_type": "markdown",
   "metadata": {},
   "source": [
    "## Gradient Descent  "
   ]
  },
  {
   "cell_type": "markdown",
   "metadata": {},
   "source": [
    "对眼前的情况采取贪心下降，找到下山最快的方向，所以求解的是局部最优解，对参数的初值选取敏感  \n",
    "Gradient Descent Algorithm： \n",
    "Θ:=Θ-alpha×(gradient)  \n",
    "相对梯度上升法，爬山：  \n",
    "Gradient Ascent Algorithm：  \n",
    "Θ:=Θ+alpha×(gradient)  \n",
    "梯度下降：同时更新参数   \n",
    "<span class=\"mark\">偏导和求导(参数的个数不一样)</span>"
   ]
  },
  {
   "attachments": {},
   "cell_type": "markdown",
   "metadata": {},
   "source": [
    "alpha学习率如何调整，应该随着更新的步骤不断变化，太大或者太小都不合适?  \n",
    "![求导](picture/1.jpg)"
   ]
  },
  {
   "cell_type": "markdown",
   "metadata": {},
   "source": [
    "## Batch Gradient Descent"
   ]
  },
  {
   "cell_type": "markdown",
   "metadata": {},
   "source": [
    "批量：每一次参数更新调整使用全部样本  \n",
    "单一：每一次参数更新调整只使用单一样本"
   ]
  },
  {
   "cell_type": "markdown",
   "metadata": {},
   "source": [
    "# 一般流程"
   ]
  },
  {
   "cell_type": "markdown",
   "metadata": {},
   "source": [
    "模型  \n",
    "参数  \n",
    "损失函数  \n",
    "目标"
   ]
  },
  {
   "cell_type": "markdown",
   "metadata": {},
   "source": [
    "# 可以使用的工具"
   ]
  },
  {
   "cell_type": "markdown",
   "metadata": {},
   "source": [
    "<div class=\"girk\">\n",
    "Octave  \n",
    "MATLAB  </div><i class=\"fa fa-lightbulb-o \"></i>"
   ]
  }
 ],
 "metadata": {
  "kernelspec": {
   "display_name": "Python 3",
   "language": "python",
   "name": "python3"
  },
  "language_info": {
   "codemirror_mode": {
    "name": "ipython",
    "version": 3
   },
   "file_extension": ".py",
   "mimetype": "text/x-python",
   "name": "python",
   "nbconvert_exporter": "python",
   "pygments_lexer": "ipython3",
   "version": "3.6.1"
  },
  "toc": {
   "colors": {
    "hover_highlight": "#DAA520",
    "navigate_num": "#000000",
    "navigate_text": "#333333",
    "running_highlight": "#FF0000",
    "selected_highlight": "#FFD700",
    "sidebar_border": "#EEEEEE",
    "wrapper_background": "#FFFFFF"
   },
   "moveMenuLeft": true,
   "nav_menu": {
    "height": "120px",
    "width": "252px"
   },
   "navigate_menu": true,
   "number_sections": true,
   "sideBar": true,
   "threshold": 4,
   "toc_cell": false,
   "toc_section_display": "block",
   "toc_window_display": true,
   "widenNotebook": false
  }
 },
 "nbformat": 4,
 "nbformat_minor": 2
}

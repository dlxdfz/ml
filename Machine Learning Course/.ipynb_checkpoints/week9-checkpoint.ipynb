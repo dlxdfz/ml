{
 "cells": [
  {
   "cell_type": "markdown",
   "metadata": {},
   "source": [
    "# <span class=\"mark\">anomaly detection</span>"
   ]
  },
  {
   "cell_type": "markdown",
   "metadata": {},
   "source": [
    "异常检测：检测样本是否异常  \n",
    "- 对已有样本的分布进行估计（一般假设其为高斯分布，当样本量足够多的时候，一般认为其服从高斯分布，具有统计学上的意义）\n",
    "- 对新来的样本，计算概率，如果小于阈值，则认为可能是异常样本\n",
    "\n",
    "---\n",
    "用途：  \n",
    "- fraud detection \n",
    "- manufacturing\n",
    "- monitoring computers in a data center"
   ]
  },
  {
   "cell_type": "markdown",
   "metadata": {},
   "source": [
    "# gaussian distribution"
   ]
  },
  {
   "cell_type": "markdown",
   "metadata": {},
   "source": [
    "P(x;miu,sigma^2) = 1/(sqrt(2×pi)×sigma) × exp(- (x-miu)^2/(2×sigma^2))  \n",
    "其极大似然估计公式为：  \n",
    "μ = 1/m × ∑xi  \n",
    "sigma = 1/m × ∑(xi-μ)^2  \n",
    "\n",
    "---\n",
    "当样本特征位数n大于等于2时：   \n",
    "- <span class=\"mark\">对每一维特征进行极大似然估计</span>\n",
    "- 假设样本的<span class=\"mark\">每一维特征都相互独立</span>，那么n维特征的联合概率分布服从n者高斯分布之积"
   ]
  },
  {
   "cell_type": "markdown",
   "metadata": {},
   "source": [
    "# developing and evaluationg an anomaly detection system"
   ]
  },
  {
   "cell_type": "markdown",
   "metadata": {},
   "source": [
    "异常检测类似与有监督学习，又有些不一样：  \n",
    "- 估计正常样本分布  \n",
    "- 确定阈值epsilon\n",
    "- 进行样本异常检测\n",
    "- 计算FN，TN，FP，TP，异常检测样本为正例\n",
    "- 对于异常检测，可能测试样本通常是偏斜的(skewed)，正例少反例多\n",
    "- 使用<span class=\"mark\">F值进行评估异常检测系统</span>\n",
    "\n",
    "---\n",
    "二者区别：  \n",
    "- 异常检测：<span class=\"mark\">异常种类繁多，但是出现的频率比较少</span>\n",
    "- 有监督学习：正例反例都很多"
   ]
  },
  {
   "cell_type": "markdown",
   "metadata": {},
   "source": [
    "# choosing what features to use"
   ]
  },
  {
   "cell_type": "markdown",
   "metadata": {},
   "source": [
    "通常<span class=\"mark\">使用直方图对原始数据进行统计分析hist(x, 50)</span>  \n",
    "当x的分布很不gauss时，需要对特征x进行变换  \n",
    "newFeature = x^0.5;hist(newFeature, 50);直到比较gauss；  \n",
    "\n",
    "---\n",
    "当在测试样本上分错时，需要将分错的样本拿出来，进行对比，一般添加新的特征，重新构造异常检测模型"
   ]
  },
  {
   "cell_type": "markdown",
   "metadata": {},
   "source": [
    "# multivariate gaussian distribution"
   ]
  },
  {
   "cell_type": "markdown",
   "metadata": {},
   "source": [
    "多元高斯分布  \n",
    "![](picture/12.jpg)  \n",
    "行列式计算：det(sigma)  \n",
    "求逆运算：pinv(sigma)"
   ]
  },
  {
   "cell_type": "markdown",
   "metadata": {},
   "source": [
    "---\n",
    "<span class=\"mark\">当x1,...,xk相互不独立时，这时采用各分布连乘的形式代表联合分布不合理</span>  \n",
    "需要考虑到各个特征之间的相关性，考虑线性相关性：cov(xi,xj)  \n",
    "\n",
    "---\n",
    "cov(xi,xj) = E(xi-μi)(xj-μj)  \n",
    "协方差矩阵sigma为协方差组成的矩阵  \n",
    "\n",
    "---\n",
    "<span class=\"mark\">注意在计算协方差矩阵sigma时，使用sigma = 1/m*(X'X)需要注意，此时X已经进行过归格化处理了  \n",
    "否则计算错误，因为按照这个计算公式计算的协方差默认X的均值为0，即μi=0</span>  \n",
    "\n",
    "---\n",
    "cov(xi,xj)表示第i,j维特征之间的相关性，在做线性回归的时候评估参数r=cov(x,y)/sqrt(δx*δy)  \n",
    "r属于[-1, 1]之间，<span class=\"mark\">当数据规格化到(0, 1)，均值为0,方差为1时，cov(x,y)就是相关系数r</span>  \n",
    "\n",
    "---\n",
    "所以cov(x,y)的值越大，说明相关性越大，正负性代表正负相关性"
   ]
  },
  {
   "cell_type": "markdown",
   "metadata": {},
   "source": [
    "## 不相关性假设 vs. 多元高斯"
   ]
  },
  {
   "cell_type": "markdown",
   "metadata": {},
   "source": [
    "<div class=\"mark\">\n",
    "不相关性假设：  \n",
    "- 连乘形式默认各特征之间不相关\n",
    "- 适合当特征数量n很大的时候，n->100,000\n",
    "- 当样本数m很小时，也能正常工作  \n",
    "- 缺点：忽略了特征之间的相关性，可能出现误判；\n",
    "- 解决方法：添加新的特征，比如x1和x2有线性相关性，可以添加x3=x1/x2，手动添加\n",
    "\n",
    "---\n",
    "多元高斯：  \n",
    "- 问题1：当sigma协方差矩阵不可逆时，不能正常计算 \n",
    "- 原因1：通常是样本数量比较少，m<n时\n",
    "- 问题2：n很大时，sigma是n by n的方阵，求逆操作计算复杂\n",
    "- 优点：知道特征之间的相关性</div><i class=\"fa fa-lightbulb-o \"></i>"
   ]
  },
  {
   "cell_type": "markdown",
   "metadata": {},
   "source": [
    "# Anomaly Detection & Recommender Systems"
   ]
  },
  {
   "cell_type": "markdown",
   "metadata": {},
   "source": [
    "## Anomaly Detection"
   ]
  },
  {
   "cell_type": "markdown",
   "metadata": {},
   "source": [
    "- 高斯分布参数估计\n",
    "- 根据特征数量选择多元高斯还是独立同分布高斯模型\n",
    "- 计算F值选择参数epsilon"
   ]
  },
  {
   "cell_type": "markdown",
   "metadata": {},
   "source": [
    "## Recommender Systems"
   ]
  },
  {
   "cell_type": "markdown",
   "metadata": {},
   "source": [
    "- collaborative filtering Algorithm（协同过滤算法）\n",
    "- 当含有数据缺失时，将参数Θ和数据X当做需要学习的参数\n",
    "- 真实的指导数据是用户已经评分的数据，未评分的部分将参加预测\n",
    "- 学习到的Θ和X是简单的线性模型，用户对电影的评分y = X*'Θ\n",
    "- 这样可以寻找相似性用户和相似性电影\n",
    "- 注意点：随机初始化参数，以区别各个电影和各个用户之间是有区别的；"
   ]
  }
 ],
 "metadata": {
  "kernelspec": {
   "display_name": "Python 3",
   "language": "python",
   "name": "python3"
  },
  "language_info": {
   "codemirror_mode": {
    "name": "ipython",
    "version": 3
   },
   "file_extension": ".py",
   "mimetype": "text/x-python",
   "name": "python",
   "nbconvert_exporter": "python",
   "pygments_lexer": "ipython3",
   "version": "3.6.1"
  },
  "toc": {
   "colors": {
    "hover_highlight": "#DAA520",
    "navigate_num": "#000000",
    "navigate_text": "#333333",
    "running_highlight": "#FF0000",
    "selected_highlight": "#FFD700",
    "sidebar_border": "#EEEEEE",
    "wrapper_background": "#FFFFFF"
   },
   "moveMenuLeft": true,
   "nav_menu": {
    "height": "194px",
    "width": "252px"
   },
   "navigate_menu": true,
   "number_sections": true,
   "sideBar": true,
   "threshold": 4,
   "toc_cell": false,
   "toc_section_display": "block",
   "toc_window_display": true,
   "widenNotebook": false
  }
 },
 "nbformat": 4,
 "nbformat_minor": 2
}

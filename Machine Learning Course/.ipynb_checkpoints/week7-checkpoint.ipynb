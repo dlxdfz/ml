{
 "cells": [
  {
   "cell_type": "markdown",
   "metadata": {},
   "source": [
    "# SVM(support vector machine)  #\n",
    "\n",
    "没讲数学原理，讲了下怎么应用。  \n",
    "应用确实很广，但是还是不清楚什么时候用，用到核函数的时候，landmark的数量和训练样本数m相关，这样合理吗？  \n",
    "\n",
    "---"
   ]
  },
  {
   "cell_type": "markdown",
   "metadata": {},
   "source": [
    "又称为：large margin classifier（最大间隔分类器）"
   ]
  },
  {
   "cell_type": "markdown",
   "metadata": {},
   "source": [
    "# Non-linear  Decison Boundary"
   ]
  },
  {
   "cell_type": "markdown",
   "metadata": {},
   "source": [
    "## Kernels Function"
   ]
  },
  {
   "cell_type": "markdown",
   "metadata": {},
   "source": [
    "当模型不够复杂的时候，不能很好拟合分类面。  \n",
    "<span class=\"mark\">这时需要添加新的特征。通常想法是添加多项式特征，而实际上又不知道添加的多项式特征维度d？</span>  \n"
   ]
  },
  {
   "cell_type": "markdown",
   "metadata": {},
   "source": [
    "Kernels and similarity  \n",
    "高斯核函数"
   ]
  },
  {
   "cell_type": "markdown",
   "metadata": {},
   "source": [
    "# SVMs in Practice"
   ]
  },
  {
   "cell_type": "markdown",
   "metadata": {},
   "source": [
    "- choice of parameter C.\n",
    "- choice of kernel(similarity function)\n",
    "\n",
    "E.g. No kernel(\"linear kernel\")  \n",
    "不适合使用核函数的情况： n很大，m很小的时候。想用少量的数据拟合很复杂的模型  \n",
    "gaussian kernel：  \n",
    "choose δ^2  \n",
    "\n",
    "kernel(similarity) function： \n",
    "- 在使用核函数后再使用特征缩放；\n",
    "- 常用核函数：线性核函数（不使用核函数）；高斯核函数；多项式核函数；\n",
    "- 不是所有的相似性函数都是核函数，需要满足Mercer's Theorem才是核函数； \n",
    "- 核函数多种多样，用于处理不同的问题；"
   ]
  },
  {
   "cell_type": "markdown",
   "metadata": {},
   "source": [
    "## Muti-class classification"
   ]
  },
  {
   "cell_type": "markdown",
   "metadata": {},
   "source": [
    "- 直接使用svm做多分类  \n",
    "- 使用一对多策略  "
   ]
  },
  {
   "cell_type": "markdown",
   "metadata": {},
   "source": [
    "## logistic Regression vs. SVMs"
   ]
  },
  {
   "cell_type": "markdown",
   "metadata": {},
   "source": [
    "经验：\n",
    "- 如果特征数量n很大，和数据量m相近，选择逻辑回归，因为线性回归可能已经足够解决；\n",
    "- 如果n很小，m是n的10倍左右，选择SVM，使用高斯核；\n",
    "- 如果n很小，m很大，100+倍，增加新的特征，然后选择使用逻辑回归或者SVM；"
   ]
  },
  {
   "cell_type": "markdown",
   "metadata": {},
   "source": [
    "## SVM是凸优化问题"
   ]
  },
  {
   "cell_type": "markdown",
   "metadata": {},
   "source": [
    "速度上比神经网络快，并且总是能够给出一个能够接受的结果。"
   ]
  }
 ],
 "metadata": {
  "kernelspec": {
   "display_name": "Python 3",
   "language": "python",
   "name": "python3"
  },
  "language_info": {
   "codemirror_mode": {
    "name": "ipython",
    "version": 3
   },
   "file_extension": ".py",
   "mimetype": "text/x-python",
   "name": "python",
   "nbconvert_exporter": "python",
   "pygments_lexer": "ipython3",
   "version": "3.6.1"
  },
  "toc": {
   "colors": {
    "hover_highlight": "#DAA520",
    "navigate_num": "#000000",
    "navigate_text": "#333333",
    "running_highlight": "#FF0000",
    "selected_highlight": "#FFD700",
    "sidebar_border": "#EEEEEE",
    "wrapper_background": "#FFFFFF"
   },
   "moveMenuLeft": true,
   "nav_menu": {
    "height": "138px",
    "width": "252px"
   },
   "navigate_menu": true,
   "number_sections": true,
   "sideBar": true,
   "threshold": 4,
   "toc_cell": false,
   "toc_section_display": "block",
   "toc_window_display": true,
   "widenNotebook": false
  }
 },
 "nbformat": 4,
 "nbformat_minor": 2
}

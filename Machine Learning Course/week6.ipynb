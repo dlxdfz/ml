{
 "cells": [
  {
   "cell_type": "markdown",
   "metadata": {},
   "source": [
    "# advice for applying machine learning"
   ]
  },
  {
   "cell_type": "markdown",
   "metadata": {},
   "source": [
    "1. 如何有条不紊地提升学习算法性能？  \n",
    "2. 什么时候学习算法表现差？ \n",
    "3. 如何<span class=\"mark\">调试学习算法，使其具有最佳实践性能</span>？\n",
    "4. 机器学习系统设计，优化学习算法，了解<span class=\"mark\">改进哪些地方能够得到最大的提升</span>？  \n",
    "5. <span class=\"burk\">理解多部分构成的学习算法？</span>  \n",
    "6. 怎么<span class=\"mark\">处理偏斜数据（skewed data）</span>？\n",
    "7. 当处理具体问题时，应该注意什么问题，避免哪些坑？"
   ]
  },
  {
   "cell_type": "markdown",
   "metadata": {},
   "source": [
    "# 评估evaluating a hypothesis"
   ]
  },
  {
   "cell_type": "markdown",
   "metadata": {},
   "source": [
    "Once we have done some trouble shooting for errors in our predictions by:  \n",
    "我们采用了以下的方式改进了算法，我们可以对新的模型（假设）做评估：  \n",
    "1. <span class=\"mark\">Getting more training examples增加数据量解决过拟合3.4</span>  \n",
    "1. <span class=\"mark\">Trying smaller sets of features减少特征数，解决过拟合</span>\n",
    "1. <span class=\"mark\">Trying additional features解决欠拟合，模型过于简单</span>  \n",
    "1. <span class=\"mark\">Trying polynomial features解决欠拟合，模型过于简单3.2</span>  \n",
    "1. <span class=\"mark\">Increasing or decreasing λ增加（原来的太小，过拟合，惩罚力度不够）解决过拟合，减小（原来的太大，不收敛，需要减小）解决欠拟合3.3</span>\n",
    "\n",
    "We can move on to evaluate our new hypothesis.  "
   ]
  },
  {
   "cell_type": "markdown",
   "metadata": {},
   "source": [
    "## 对训练数据做划分 \n",
    "7,3分训练数据，70%用于训练，30%用于测试：  \n",
    "1. Learn Θ and minimize Jtrain(Θ) using the training set\n",
    "1. Compute the test set error Jtest(Θ)"
   ]
  },
  {
   "cell_type": "markdown",
   "metadata": {},
   "source": [
    "## 测试误差定义  \n",
    "1. for linear regression:(损失函数值表示)  \n",
    "\\begin{align*} J_{test}(\\Theta) = \\dfrac{1}{2m_{test}} \\sum_{i=1}^{m_{test}}(h_\\Theta(x^{(i)}_{test}) - y^{(i)}_{test})^2 \\end{align*}\n",
    "2. for classification~misclassification error(错误率)  \n",
    "\\begin{align*} err(h_\\Theta(x),y) = \\begin{matrix} 1 & \\mbox{if } h_\\Theta(x) \\geq 0.5\\ and\\ y = 0\\ or\\ h_\\Theta(x) < 0.5\\ and\\ y = 1\\newline 0 & \\mbox otherwise \\end{matrix} \\newline \\text{Test Error} = \\dfrac{1}{m_{test}} \\sum^{m_{test}}_{i=1} err(h_\\Theta(x^{(i)}_{test}), y^{(i)}_{test}) \\end{align*}"
   ]
  },
  {
   "cell_type": "markdown",
   "metadata": {},
   "source": [
    "## model selection(λ，多项式特征的次数等）"
   ]
  },
  {
   "cell_type": "markdown",
   "metadata": {},
   "source": [
    "## 交叉验证  \n",
    "6,2,2分数据集，60%做训练数据集，20%做cross validation训练集，20%做训练数据集。  \n",
    "如果按照之前的7,3分数据，在30%的测试集合上选择最优的模型，然后再对30%的测试数据做泛化误差分析不合理。  \n",
    "不公平的原因是选了最好的J(Θ)，然后再在test set做evaluation，则不是泛化误差，因为Θ已经很好fit测试集了。  \n",
    "所以做法是使用交叉验证，先在验证集上做模型选择，然后使用test set做泛化误差估计。"
   ]
  },
  {
   "cell_type": "markdown",
   "metadata": {},
   "source": [
    "一般步骤为：  \n",
    "1.分割数据集合  \n",
    "One way to break down our dataset into the three sets is:  \n",
    "1.  Training set: 60%\n",
    "1.  Cross validation set: 20%\n",
    "1.  Test set: 20%\n",
    "\n",
    "2.模型选择\n",
    "We can now calculate three separate error values for the three different sets using the following method:  \n",
    "1. 训练Optimize the parameters in Θ using the training set for each polynomial degree.\n",
    "1. 验证Find the polynomial degree d with the least error using the cross validation set.\n",
    "1. 测试Estimate the generalization error using the test set with Jtest(Θ(d)), (d = theta from polynomial with lower error);\n",
    "\n",
    "This way, the degree of the polynomial d has not been trained using the test set."
   ]
  },
  {
   "cell_type": "markdown",
   "metadata": {},
   "source": [
    "# 会评估后，怎么选择模型diagnosing high Bias（欠拟合） vs. high Variance（过拟合） \n",
    "诊断模型是过拟合还是欠拟合？ \n",
    "[关于error bias和variance的解释](https://www.zhihu.com/question/27068705)  "
   ]
  },
  {
   "cell_type": "markdown",
   "metadata": {},
   "source": [
    "## 理解bias和variance二者的区别\n",
    "训练模型的目的是逼近真实模型。真实模型可以理解为囊括所有数据的，并且已经拟合的模型。  \n",
    "但是真实模型是不可能得到的，因为得不到所有的数据。那么需要训练一个近似的模型。怎么评估这个近似的模型？  \n",
    "1. 定义一个准则函数（loss function），使准则函数在训练集上最小化得到最优化的参数Θ。 \n",
    "1. 但是在训练集上表现得好的Θ在测试集上不一样表现得好，在训练集上的loss和在一般化的数据集上的loss之间的差异称为generalization error。  \n",
    "1. generalization error可以分为两部分。就是bais（偏差）和variance（方差），并且二者是对模型的复杂性的体现。  \n",
    "1. bais:训练集合上实际值和预测值之间的error。当然是模型越复杂，拟合的程度越好。 \n",
    "1. variance:一般化集合上实际值和预测值之间的error和bais的error出入。模型越复杂，出入越大，说明泛化越差。\n",
    "1. 数据集想要做到拟合好并且泛化也好，实质是希望在简单模型的同时对一般数据拟合得很好。\n",
    "\n",
    "下图可以做很好的解释： \n",
    "![](picture/7.jpg)"
   ]
  },
  {
   "cell_type": "markdown",
   "metadata": {},
   "source": [
    "对模型的拟合可以比喻成打靶：想要打得准并且稳！  \n",
    "bais代表准度，variance代表稳定性。  \n",
    "模型越复杂（特征的维度越高，或者是计算越复杂），代表干扰的因素越多，就越不稳定，variance就飘。泛化能力差，一般数据集合在训练集合产生的模型上表现差。  \n",
    "模型越复杂，在训练集上表现好，准度高，但注意不一定在一般数据集合上表现好。  \n",
    "想要又准又稳，需要tradeoff，做折中。在两条线的交叉处。  "
   ]
  },
  {
   "cell_type": "markdown",
   "metadata": {},
   "source": [
    "## <span class=\"mark\">d是否要增加多项式特？</span>课程上给的解释（error-d）\n",
    "在交叉验证集和在训练集合上的误差比较：  \n",
    "![](picture/8.jpg)"
   ]
  },
  {
   "cell_type": "markdown",
   "metadata": {},
   "source": [
    "总结就是，当模型简单的时候，很稳，但是准度不够。  \n",
    "当模型复杂的时候，比较准，但是由于在一般数据集合上的表现欠佳，所以不稳。  \n",
    "黑线代表二者的折中处，较简单的模型（稳）达到较好的准度（准）。"
   ]
  },
  {
   "cell_type": "markdown",
   "metadata": {},
   "source": [
    "## <span class=\"mark\">λ选择合适的λ？</span>regularization和bais、variance的关系"
   ]
  },
  {
   "cell_type": "markdown",
   "metadata": {},
   "source": [
    "为了不过拟合，low bais，添加正则项。  \n",
    "由参数λ控制惩罚力度：当λ很大时，high bais，欠拟合；当λ很小时，high variance，过拟合。  \n",
    "### 选择惩罚参数λ（error-λ）  \n",
    "注意：<span class=\"mark\">在计算训练集合和验证集合的损失函数时不需要添加正则项误差</span>。因为正则项误差随着模型的复杂度变化。 \n",
    "可以画出λ的取值和Jtraining(Θ)、Jvalidation(Θ)之间的关系，然后选择合理的折中点以及对应的λ值。  \n",
    "![]()"
   ]
  },
  {
   "cell_type": "markdown",
   "metadata": {},
   "source": [
    "## <span class=\"mark\">m是否需要添加数据量？</span>learning curves(学习曲线)（error-m）"
   ]
  },
  {
   "cell_type": "markdown",
   "metadata": {},
   "source": [
    "判断是否需要增加训练数据量提升算法的性能？   \n",
    "图1：欠拟合时，随着数据量的增加，train-error和test-error之间gap很小，但是逼近的error很大。此时说明了，模型有问题，模型太简单，拟合得不好，再怎么增加数据，模型的性能不能得到提升。  \n",
    "![](picture/9.jpg)\n",
    "图2：过拟合时，随着数据量的增加，train-error和test-error之间gap有明显缩小，中间的gap比较大。  \n",
    "此时说明了，模型可能是对的。只是数据很少，拟合还可以，这时增加数据有可能提升模型的性能。\n",
    "![](picture/10.jpg)"
   ]
  },
  {
   "cell_type": "markdown",
   "metadata": {},
   "source": [
    "# Neural networks and overfitting"
   ]
  },
  {
   "cell_type": "markdown",
   "metadata": {},
   "source": [
    "1. 怎么解决神经网络过拟合？  \n",
    "参数越多，越容易过拟合。  \n",
    "使用正则化修正过拟合。  \n",
    "1. 怎么确定神经网络的结构？  \n",
    "隐含层层数：<span class=\"mark\">使用交叉验证的方式，画出train-error和validation-error之间的关系。选择合理的层数</span>。"
   ]
  },
  {
   "cell_type": "markdown",
   "metadata": {},
   "source": [
    "# 实验"
   ]
  },
  {
   "cell_type": "markdown",
   "metadata": {},
   "source": [
    "使用简单的线性回归说明怎么选择模型（λ，多项式特征等）"
   ]
  },
  {
   "cell_type": "markdown",
   "metadata": {},
   "source": [
    "1. 首先画出learning curves曲线（m-error,训练样本数和误差曲线）确定是会high bias（欠拟合）还是high variance（过拟合）；  \n",
    "如果train-J和validation-J相差很远，train-J很小，则说明过拟合。  \n",
    "如果train-J和validation-J离得很近，二者都很大，则说明欠拟合。 \n",
    "当然此前需要完成CostFunction返回梯度和误差，以及使用fmincg训练模型，返回参数。  \n",
    "2. 本次实验是欠拟合，然后添加多项式项  \n",
    "构造多项式特征，采取多项式回归  \n",
    "optional：可以测试λ的变化和train-J和validation-J的关系，选择合适的λ；  "
   ]
  },
  {
   "cell_type": "markdown",
   "metadata": {},
   "source": [
    "# machine learning system design（学习系统设计）"
   ]
  },
  {
   "cell_type": "markdown",
   "metadata": {},
   "source": [
    "## building a spam classifier"
   ]
  },
  {
   "cell_type": "markdown",
   "metadata": {},
   "source": [
    "特征选取，统计出现的词，从出现的频率选取前n个作为Word list字典序排列，构造特征。  \n",
    "降低错误的方法\n",
    "- 收集足够多的数据：建立一个 假的邮箱地址 故意将这些地址 泄露给发垃圾邮件的人 这样就能收到大量的垃圾邮件 你看 这样的话 我们就能得到非常多的垃圾邮件来训练学习算法\n",
    "- 使用更多的信息：邮件的路径信息，邮件标题，服务器，路由等\n",
    "- 纠正邮件中故意的拼写错误watch->w4tch  \n",
    "\n",
    "- Collect lots of data (for example \"honeypot\" project but doesn't always work)\n",
    "- Develop sophisticated features (for example: using email header data in spam emails)\n",
    "- Develop algorithms to process your input in different ways (recognizing misspellings in spam)."
   ]
  },
  {
   "cell_type": "markdown",
   "metadata": {},
   "source": [
    "## error analysis(误差分析)"
   ]
  },
  {
   "cell_type": "markdown",
   "metadata": {},
   "source": [
    "The recommended approach to solving machine learning problems is to:\n",
    "\n",
    "- Start with a <span class=\"mark\">simple algorithm, implement it quickly</span>, and test it early on your cross validation data.\n",
    "- <span class=\"mark\">Plot learning curves</span> to decide if more data, more features, etc. are likely to help.\n",
    "- <span class=\"mark\">Manually examine the errors on examples in the cross validation set</span> and try to spot a trend where most of the errors were made."
   ]
  },
  {
   "cell_type": "markdown",
   "metadata": {
    "collapsed": true
   },
   "source": [
    "- 首先简单快速地构建一个简单的算法，不考虑复杂的情况；\n",
    "- 快速得到结构后，即使不完美，最后可以通过交叉验证来验证数据，可以画出学习曲线（error-m），从中可以判断（bias、variance欠拟合，过拟合）问题，而且<span class=\"mark\">知道是否增加数据量是否有效，还是模型是否正确</span>；\n",
    "- 在上一步后，决定是否增加数据量（过拟合），是否添加更多的变量（欠拟合）；\n",
    "- <span class=\"mark\">不要仅仅靠直觉（gut-feeling)，凭直觉得出的东西一般是错误的</span>；\n",
    "- 除了画出学习曲线之外（error-m），还可以做误差分析；\n",
    "\n",
    "误差分析：  \n",
    "- 当简单的算法运行后，可以使用交叉验证对数据进行验证，判断模型的好坏以及数据的好坏。  \n",
    "- 具体做法是，看交叉验证数据集，人工判断那些邮件被算法错误地划分，然后通过错误划分的垃圾邮件，可以发现某些统一的规律，什么样类型的邮件总是被划分错误，这些都是启发性信息；\n",
    "- 这样你可以根据找到的规律，构造新的特征，或者是启发这个系统有哪些短处，可以进一步提高性能；\n",
    "- 所以推荐一开始，首先实践一个快速即使不完美的算法；\n",
    "\n",
    "小窍门：<span class=\"mark\">保证有一种数值计算的方式评估机器学习算法</span>  \n",
    "- 用数字说话，能够直观准确得说明问题\n",
    "- 比如想验证在垃圾邮件划分采用‘Poter stemmer’做词干提取对算法是否有提升，那直接扔进去看在交叉验证集上的表现。如果效果 （比如说是错误率构造的数值评价）有提升，那就说明做词干提取有效；\n",
    "- 比如是否需要区分大小写？尝试比较性能\n",
    "\n",
    "总结：\n",
    "- <span class=\"mark\">在交叉验证集合上做误差分析</span>  \n",
    "- 不在测试集合上做误差分析的原因是，test set是用于评估泛化性能的集合，不适合用于选择模型的好坏，在数学上不推荐；"
   ]
  },
  {
   "cell_type": "markdown",
   "metadata": {},
   "source": [
    "## <span class=\"mark\">handing skewed data（处理偏斜数据）</span> \n",
    "[机器学习性能评估指标](http://charleshm.github.io/2016/03/Model-Performance/)  \n",
    "<span class=\"mark\">对于偏斜类的问题 查准率和召回率 给予了我们更好的方法 来检测学习算法表现如何</span> 这是一种 更好地评估学习算法的标准 当出现偏斜类时 比仅仅只用分类误差或者分类精度好 "
   ]
  },
  {
   "cell_type": "markdown",
   "metadata": {},
   "source": [
    "### 什么叫做偏斜类（skewed class)"
   ]
  },
  {
   "cell_type": "markdown",
   "metadata": {},
   "source": [
    "正例和负例的比例接近一个极端，比如正例（y = 1）为99%，而负例(y = 0)为1%，这种情况成为偏斜类。"
   ]
  },
  {
   "cell_type": "markdown",
   "metadata": {},
   "source": [
    "### 偏斜类会造成什么问题？"
   ]
  },
  {
   "cell_type": "markdown",
   "metadata": {},
   "source": [
    "比如有一个分类器算法，通过构造的单一数值错误率达到了1%（在测试集合上）。说明99%的情况，该分类器都分对了。  \n",
    "但是观察测试集合，有99.5%的正例(y = 1)，0.5%的负例(y = 0)，如果我的分类简单写成y = 1；在该测试集合上，错误率变为了0.5%，但我们知道这样的分类器不合理。仅仅靠错误率评价分类器的好坏不一定总是有效的。怎么办？\n",
    "- precision（查准率）:分为正例里面有多少分对了？\n",
    "- recall（召回率）：正例里面有多少分为正例的有多少？\n",
    "\n",
    "直观表现如图：\n",
    "![precision_recall](picture/11.jpg)"
   ]
  },
  {
   "cell_type": "markdown",
   "metadata": {},
   "source": [
    "对于99.5%是正例，0.5%是负例的例子：  \n",
    "                        actual positive 1            actual negative 0  \n",
    "predict positive 1      TP(True  positive)99.5%      FP(False positive)0.5%  \n",
    "predict negative 0      FN(False negative)0%         TN(True  negative)0%  "
   ]
  },
  {
   "cell_type": "markdown",
   "metadata": {},
   "source": [
    "precision = TP/(TP + FP) = 99.5%/(99.5%+0.5%) = 99.5%;  \n",
    "recall = TP/(TP + FN) = 99.5%/(99.5%+0%) = 100%;  \n",
    "虽然这里对于这个例子，以y=1为正例的precision和recall都很高，但是数据是偏斜的。  \n",
    "<span class=\"mark\">实际情况是：  \n",
    "想验证哪个类是偏斜的，就将哪个类当正例看待。  \n",
    "将稀少的类当做正例</span>  \n",
    "比如这个例子将y=0当做正例看待，则precision = TN/(TN + FN) = 0;  \n",
    "recall = TN/(TN + FP) = 0;  \n",
    "可以发现二者都是0，虽然错误率很低，只有0.5%，但是召回率和查准率很低，算法表现不好。 "
   ]
  },
  {
   "cell_type": "markdown",
   "metadata": {},
   "source": [
    "## Trading Off Precision and Recall"
   ]
  },
  {
   "cell_type": "markdown",
   "metadata": {},
   "source": [
    "### <span class=\"mark\">F值，怎么权衡PR值</span>"
   ]
  },
  {
   "cell_type": "markdown",
   "metadata": {},
   "source": [
    "<span class=\"mark\"><span class=\"mark\">F值</span></span>等于PR二值的调和平均数。  \n",
    "综合二者，倾向于二者都比较大，任何一者很小都会造成F值很小。  \n",
    "F = 2×PR/（P+R）"
   ]
  },
  {
   "cell_type": "markdown",
   "metadata": {},
   "source": [
    "### <span class=\"mark\">怎么调整PR值</span>"
   ]
  },
  {
   "cell_type": "markdown",
   "metadata": {},
   "source": [
    "对于逻辑回归，调整threshold，通常是0.5%； \n",
    "- predictValue >= threshold; predict = 1;\n",
    "- predictValue <  threshold; predict = 0;\n",
    "\n",
    "正例（得癌症），反例（健康）：\n",
    "- threshold = 0.9：不希望随便就判断别人可能获得癌症，只有较高概率时才判断为得癌症，希望分为正例的部分更自信分准确，P值高，可知正例分得少，R值小；\n",
    "- threshold = 0.1：不希望可能得癌症的人漏掉，导致不能及时治疗，希望不要漏分正例，正例分得多，R值高；当查准率低，P值低；"
   ]
  },
  {
   "cell_type": "markdown",
   "metadata": {},
   "source": [
    "## Data for machine learning"
   ]
  },
  {
   "cell_type": "markdown",
   "metadata": {},
   "source": [
    "前提：数据特征包含的信息能够预测分类或者其他学习任务，这样足够多的数据会得到高性能的学习算法。  \n",
    "比如预测房子的价格，只靠房子的面积是不能够准确预测房子的价格的，即使是一个很懂房价这方面的专家。因为房子还有其他很多有用的信息，比如房子的新旧，房子的房间数量，房子的装潢，房子所处位置等。\n",
    "\n",
    "所以在考量用于机器学习的数据和算法时需要考虑两点：\n",
    "- 数据特征<span class=\"mark\">是否包含足够的信息</span>，给这方面的专家做分析，看到数据的信息是否能够准确分析；\n",
    "- <span class=\"mark\">学习算法是否适合复杂，得到较好的效果</span>。\n",
    "\n",
    "数据量、学习算法和系统性能的关系：\n",
    "- 高准确率的学习系统性能，不是由谁有最优的学习算法决定的，而是<span class=\"mark\">谁含有更多的信息</span>；\n",
    "- <span class=\"mark\">It's not who has the best algorithm that wins, it's who has the most data. --Banko and Brill,2001</span>\n",
    "\n",
    "大数据理论：\n",
    "- 使用的学习算法包含的参数量多，更容易得到low bias Algorithm，高准确率；<span class=\"mark\">（准）</span>\n",
    "- 使用的学习算法使用的数据量多，算法越不容易过拟合，得到low variance Algorithm，高泛化性；Jtrain（Θ）≈Jtest（Θ）<span class=\"mark\">（稳）</span>\n"
   ]
  },
  {
   "cell_type": "code",
   "execution_count": null,
   "metadata": {
    "collapsed": true
   },
   "outputs": [],
   "source": []
  }
 ],
 "metadata": {
  "kernelspec": {
   "display_name": "Python 3",
   "language": "python",
   "name": "python3"
  },
  "language_info": {
   "codemirror_mode": {
    "name": "ipython",
    "version": 3
   },
   "file_extension": ".py",
   "mimetype": "text/x-python",
   "name": "python",
   "nbconvert_exporter": "python",
   "pygments_lexer": "ipython3",
   "version": "3.6.1"
  },
  "toc": {
   "colors": {
    "hover_highlight": "#DAA520",
    "navigate_num": "#000000",
    "navigate_text": "#333333",
    "running_highlight": "#FF0000",
    "selected_highlight": "#FFD700",
    "sidebar_border": "#EEEEEE",
    "wrapper_background": "#FFFFFF"
   },
   "moveMenuLeft": true,
   "nav_menu": {
    "height": "348px",
    "width": "252px"
   },
   "navigate_menu": true,
   "number_sections": true,
   "sideBar": true,
   "threshold": 4,
   "toc_cell": false,
   "toc_position": {
    "height": "810px",
    "left": "0px",
    "right": "1058px",
    "top": "106px",
    "width": "212px"
   },
   "toc_section_display": "block",
   "toc_window_display": true,
   "widenNotebook": false
  }
 },
 "nbformat": 4,
 "nbformat_minor": 2
}

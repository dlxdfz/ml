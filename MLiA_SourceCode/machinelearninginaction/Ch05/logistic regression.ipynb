{
 "cells": [
  {
   "cell_type": "markdown",
   "metadata": {},
   "source": [
    "# Logistic回归  \n",
    "最优化算法，拟合函数用于分类，寻找拟合参数的方法"
   ]
  },
  {
   "cell_type": "code",
   "execution_count": 1,
   "metadata": {
    "collapsed": true
   },
   "outputs": [],
   "source": [
    "import matplotlib.pyplot as plt\n",
    "from numpy import *"
   ]
  },
  {
   "cell_type": "markdown",
   "metadata": {},
   "source": [
    "## 基于logistic回归和sigmoid函数的分类"
   ]
  },
  {
   "cell_type": "code",
   "execution_count": 8,
   "metadata": {},
   "outputs": [
    {
     "data": {
      "image/png": "[encoded data removed]",
      "text/plain": [
       "<matplotlib.figure.Figure at 0x815add8>"
      ]
     },
     "metadata": {},
     "output_type": "display_data"
    },
    {
     "data": {
      "image/png": "[encoded data removed]",
      "text/plain": [
       "<matplotlib.figure.Figure at 0x7a96978>"
      ]
     },
     "metadata": {},
     "output_type": "display_data"
    }
   ],
   "source": [
    "# sigmod函数\n",
    "# 弥补阶跃函数不可导的问题\n",
    "# 曲线很像阶跃函数，取值范围（0， 1），作为二分类示性函数很合适\n",
    "x = arange(-5, 5, 0.1)\n",
    "y = 1.0 / (1 + e**(- x))\n",
    "plt.xlabel('x')\n",
    "plt.ylabel('sigmoid(x)')\n",
    "plt.plot(x,y)\n",
    "plt.show()\n",
    "\n",
    "x = arange(-60, 60, 1)\n",
    "y = 1.0 / (1 + e**(- x))\n",
    "plt.xlabel('x')\n",
    "plt.ylabel('sigmoid(x)')\n",
    "plt.plot(x,y)\n",
    "plt.show()"
   ]
  },
  {
   "cell_type": "markdown",
   "metadata": {},
   "source": [
    "## 基于最优化方法的最佳回归系数确定"
   ]
  },
  {
   "cell_type": "markdown",
   "metadata": {},
   "source": [
    "### 梯度上升法  \n",
    "思想：要找到某函数的峰值，最好的方式是沿着该函数的梯度方向查找，就像上山坡，最陡峭的地方上升最快  \n",
    "w = w + αδ  \n",
    "梯度下降法，寻找函数的低谷值，更新函数类似，下坡  \n",
    "w = w - αδ "
   ]
  },
  {
   "cell_type": "markdown",
   "metadata": {},
   "source": [
    "### loadDataSet()"
   ]
  },
  {
   "cell_type": "code",
   "execution_count": 2,
   "metadata": {
    "collapsed": true
   },
   "outputs": [],
   "source": [
    "# 准备数据\n",
    "# z = w*z = (x0, x1, 1)*(a, b, c) = ax0 + bx1 + c， 数据做扩展\n",
    "def loadDataSet():\n",
    "    dataMat = []; labelMat = []\n",
    "    fr = open('testSet.txt')\n",
    "    for line in fr.readlines():\n",
    "        lineArr = line.strip().split()\n",
    "        dataMat.append([1.0, float(lineArr[0]), float(lineArr[1])])\n",
    "        #if int(lineArr[2]) == 0:\n",
    "        #    labelMat.append(1)\n",
    "        #else:\n",
    "        #    labelMat.append(0)\n",
    "        labelMat.append(int(lineArr[2]))\n",
    "    return dataMat,labelMat"
   ]
  },
  {
   "cell_type": "markdown",
   "metadata": {},
   "source": [
    "### drawDataPlot()"
   ]
  },
  {
   "cell_type": "code",
   "execution_count": 6,
   "metadata": {
    "collapsed": true
   },
   "outputs": [],
   "source": [
    "# cyb添加\n",
    "def drawDataPlot(fig):\n",
    "    # dataMat是扩展后的\n",
    "    dataMat, labelMat = loadDataSet()\n",
    "    numData = len(dataMat)\n",
    "    for i in range(numData):\n",
    "        if labelMat[i] == 0:\n",
    "            fig.plot(dataMat[i][1], dataMat[i][2], 'bo')\n",
    "        else:\n",
    "            fig.plot(dataMat[i][1], dataMat[i][2], 'r+')\n",
    "def drawLine(listArg, fig):\n",
    "    x = arange(-4, 4, 1)\n",
    "    y = -(float(listArg[0][0]) + x*float(listArg[1][0]))/float(listArg[2][0])\n",
    "    fig.plot(x, y, 'y')"
   ]
  },
  {
   "cell_type": "markdown",
   "metadata": {},
   "source": [
    "### 测试数组操作"
   ]
  },
  {
   "cell_type": "code",
   "execution_count": 177,
   "metadata": {},
   "outputs": [
    {
     "name": "stdout",
     "output_type": "stream",
     "text": [
      "[1 4]\n",
      "5\n",
      "[[5]]\n",
      "[[1 2]\n",
      " [2 4]]\n",
      "[[1 3]\n",
      " [2 4]]\n",
      "[[1 3]\n",
      " [2 4]]\n"
     ]
    }
   ],
   "source": [
    "# 测试\n",
    "# 数组操作\n",
    "x = array([1,2])\n",
    "y = array([1,2])\n",
    "print x*y\n",
    "print x.dot(y)\n",
    "# 矩阵操作\n",
    "x = mat(x)\n",
    "y = mat(y)\n",
    "print x*y.T\n",
    "print x.T*y\n",
    "\n",
    "x = [[1,2],[3,4]]\n",
    "print mat(x).transpose()\n",
    "print mat(x).T"
   ]
  },
  {
   "cell_type": "markdown",
   "metadata": {},
   "source": [
    "### sigmoid()"
   ]
  },
  {
   "cell_type": "code",
   "execution_count": 4,
   "metadata": {
    "collapsed": true
   },
   "outputs": [],
   "source": [
    "# sigmoid（）\n",
    "def sigmoid(inX):\n",
    "    return 1.0/(1.0+exp(-inX))"
   ]
  },
  {
   "cell_type": "markdown",
   "metadata": {},
   "source": [
    "### gradAscent() logistic regression classification"
   ]
  },
  {
   "cell_type": "code",
   "execution_count": 5,
   "metadata": {
    "collapsed": true
   },
   "outputs": [],
   "source": [
    "# 模型形式为 sigmoid(w*x)\n",
    "# 所求参数为 w\n",
    "# 对数似然函数为 L(w) = ∑(y(w*x) - log(1+exp(w*x))) = ∑(p1^y*(1-p1)^(1-y))\n",
    "# 使用极大似然估计模型参数\n",
    "# 使用梯度上升法查找最佳参数\n",
    "# 参数更新 w = w + alpha * (delta(L(w), w))\n",
    "# delta(L(w), w) = y*x - exp(w*x)*w/(1+exp(w*x)) = x(y - exp(w*x)/(1+exp(w*x)))\n",
    "# 数据集标签怎么标会影响结果吗？\n",
    "# 比如上方的点被标为0，说明在线的上方，w*x>0，并且sigmoid（w*x）> 0.5，属于0类,结果表示好像不影响，只是变成了-（w*x）\n",
    "def gradAscent(dataMatIn, classLabels):\n",
    "    dataMatrix = mat(dataMatIn)             #convert to NumPy matrix m*n\n",
    "    labelMat = mat(classLabels).transpose() #convert to NumPy matrix m*1\n",
    "    m,n = shape(dataMatrix)\n",
    "    alpha = 0.001                           # 步长\n",
    "    maxCycles = 500                         # 循环次数\n",
    "    weights = ones((n,1))                   # 初始化参数\n",
    "    for k in range(maxCycles):              #heavy on matrix operations\n",
    "        h = sigmoid(dataMatrix*weights)     #matrix mult m*n dot n*1\n",
    "        error = (labelMat - h)              #vector subtraction m*1\n",
    "        weights = weights + alpha * dataMatrix.transpose()* error #matrix mult\n",
    "    return weights"
   ]
  },
  {
   "cell_type": "markdown",
   "metadata": {},
   "source": [
    "### logistic回归二分类测试"
   ]
  },
  {
   "cell_type": "code",
   "execution_count": 12,
   "metadata": {},
   "outputs": [
    {
     "name": "stdout",
     "output_type": "stream",
     "text": [
      "[[ 4.12414349]\n",
      " [ 0.48007329]\n",
      " [-0.6168482 ]]\n"
     ]
    },
    {
     "data": {
      "image/png": "[encoded data removed]",
      "text/plain": [
       "<matplotlib.figure.Figure at 0x7f9e588>"
      ]
     },
     "metadata": {},
     "output_type": "display_data"
    },
    {
     "name": "stdout",
     "output_type": "stream",
     "text": [
      "take 2.78999996185 s\n"
     ]
    }
   ],
   "source": [
    "# 测试\n",
    "import time\n",
    "time1 = time.time()\n",
    "dataMat, labelMat = loadDataSet()\n",
    "result = gradAscent(dataMat, labelMat)\n",
    "print result\n",
    "fig = plt.figure(figsize=[15, 5])\n",
    "ax1 = fig.add_subplot(1, 2, 1)\n",
    "ax2 = fig.add_subplot(1, 2, 2)\n",
    "drawDataPlot(ax1)\n",
    "drawDataPlot(ax2)\n",
    "drawLine(result, ax2)\n",
    "plt.show()\n",
    "print 'take', time.time() - time1, 's'"
   ]
  },
  {
   "cell_type": "markdown",
   "metadata": {},
   "source": [
    "### perceptron()"
   ]
  },
  {
   "cell_type": "code",
   "execution_count": 18,
   "metadata": {
    "collapsed": true
   },
   "outputs": [],
   "source": [
    "# cyb添加 \n",
    "# 感知器算法,激活函数为阶跃函数，w*x>0,y = 1,w*x<0,y = 0\n",
    "# 采用梯度下降法，求使损失函数极小的参数weights\n",
    "# 损失函数形式L(w) = -∑(w*xi)*yi, 计算对象是那些分错的数据\n",
    "# 所以更新公式为：w -= -xi*yi, 对于那些分错的数据\n",
    "def perceptron(dataMat, labelMat):\n",
    "    m = len(dataMat)\n",
    "    n = len(dataMat[0])\n",
    "    weights = ones((n,1))\n",
    "    cycles = 500\n",
    "    alpha = 0.001\n",
    "    for j in range(cycles):\n",
    "        for i in range(m):\n",
    "            if labelMat[i] == 0:\n",
    "                if (-1) * mat(dataMat[i] )* weights < 0:\n",
    "                    weights += -mat(dataMat[i]).T * alpha\n",
    "            else:\n",
    "                if mat(dataMat[i]) * weights < 0:\n",
    "                    weights += mat(dataMat[i]).T * alpha\n",
    "            #p = sigmoid(mat(dataMat[i])*weights)         # 1*n n*1\n",
    "            # n*1  1*(n*1)\n",
    "            #weights = weights + alpha * mat(dataMat[i]).T * p * (1 - p)\n",
    "        error = mat(labelMat).T - sigmoid(mat(dataMat)*weights)\n",
    "        #print sum(error)\n",
    "    print 'error is', sum(error)\n",
    "    return weights\n",
    "    "
   ]
  },
  {
   "cell_type": "markdown",
   "metadata": {},
   "source": [
    "### 感知机测试"
   ]
  },
  {
   "cell_type": "code",
   "execution_count": 17,
   "metadata": {},
   "outputs": [
    {
     "name": "stdout",
     "output_type": "stream",
     "text": [
      "error is  1.18409428525\n",
      "[[ 1.004     ]\n",
      " [ 0.06876242]\n",
      " [-0.14023402]]\n"
     ]
    },
    {
     "data": {
      "image/png": "[encoded data removed]",
      "text/plain": [
       "<matplotlib.figure.Figure at 0x6f96ef0>"
      ]
     },
     "metadata": {},
     "output_type": "display_data"
    },
    {
     "name": "stdout",
     "output_type": "stream",
     "text": [
      "take 7.77200007439 s\n"
     ]
    }
   ],
   "source": [
    "# 测试\n",
    "# 花费的时间更多，是不是矩阵运算更快？\n",
    "import time \n",
    "time1 = time.time()\n",
    "dataMat, labelMat = loadDataSet()\n",
    "result = perceptron(dataMat, labelMat)\n",
    "print result\n",
    "fig = plt.figure(figsize=[15, 5])\n",
    "ax1 = fig.add_subplot(1, 2, 1)\n",
    "ax2 = fig.add_subplot(1, 2, 2)\n",
    "drawDataPlot(ax1)\n",
    "drawDataPlot(ax2)\n",
    "drawLine(result, ax2)\n",
    "plt.show()\n",
    "print 'take', time.time() - time1, 's'"
   ]
  },
  {
   "cell_type": "markdown",
   "metadata": {},
   "source": [
    "## 显示函数plotBestFit()"
   ]
  },
  {
   "cell_type": "code",
   "execution_count": 87,
   "metadata": {
    "collapsed": true
   },
   "outputs": [],
   "source": [
    "def plotBestFit(weights):\n",
    "    import matplotlib.pyplot as plt\n",
    "    dataMat,labelMat=loadDataSet()\n",
    "    dataArr = array(dataMat)\n",
    "    n = shape(dataArr)[0] \n",
    "    xcord1 = []; ycord1 = []\n",
    "    xcord2 = []; ycord2 = []\n",
    "    for i in range(n):\n",
    "        if int(labelMat[i])== 1:\n",
    "            xcord1.append(dataArr[i,1]); ycord1.append(dataArr[i,2])\n",
    "        else:\n",
    "            xcord2.append(dataArr[i,1]); ycord2.append(dataArr[i,2])\n",
    "    fig = plt.figure()\n",
    "    ax = fig.add_subplot(111)\n",
    "    ax.scatter(xcord1, ycord1, s=30, c='red', marker='s')\n",
    "    ax.scatter(xcord2, ycord2, s=30, c='green')\n",
    "    x = arange(-3.0, 3.0, 0.1)\n",
    "    y = (-weights[0]-weights[1]*x)/weights[2]\n",
    "    ax.plot(x, y)\n",
    "    plt.xlabel('X1'); plt.ylabel('X2');\n",
    "    plt.show()"
   ]
  },
  {
   "cell_type": "code",
   "execution_count": 140,
   "metadata": {},
   "outputs": [
    {
     "data": {
      "image/png": "[encoded data removed]",
      "text/plain": [
       "<matplotlib.figure.Figure at 0x879c198>"
      ]
     },
     "metadata": {},
     "output_type": "display_data"
    }
   ],
   "source": [
    "weights = [float(i) for i in array(result)]\n",
    "plotBestFit(weights)"
   ]
  },
  {
   "cell_type": "markdown",
   "metadata": {},
   "source": [
    "## 单样本训练"
   ]
  },
  {
   "cell_type": "code",
   "execution_count": 129,
   "metadata": {
    "collapsed": true
   },
   "outputs": [],
   "source": [
    "def stocGradAscent0(dataMatrix, classLabels):\n",
    "    m,n = shape(dataMatrix)\n",
    "    alpha = 0.01\n",
    "    weights = ones(n)   #initialize to all ones\n",
    "    for i in range(m):\n",
    "        #h = sigmoid(sum(dataMatrix[i]*weights))\n",
    "        h = sigmoid(dataMatrix[i].dot(weights.T))\n",
    "        error = classLabels[i] - h\n",
    "        weights = weights + alpha * error * dataMatrix[i]\n",
    "    return weights"
   ]
  },
  {
   "cell_type": "code",
   "execution_count": 192,
   "metadata": {
    "scrolled": false
   },
   "outputs": [
    {
     "name": "stdout",
     "output_type": "stream",
     "text": [
      "[[ 1.01702007  0.85914348 -0.36579921]]\n",
      "[1.0170200728876158, 0.85914347942524505, -0.36579921045741998]\n"
     ]
    },
    {
     "data": {
      "image/png": "[encoded data removed]",
      "text/plain": [
       "<matplotlib.figure.Figure at 0x77fbc18>"
      ]
     },
     "metadata": {},
     "output_type": "display_data"
    }
   ],
   "source": [
    "# 测试\n",
    "weights = stocGradAscent0(mat(dataMat), labelMat)\n",
    "print weights\n",
    "weights = [i for i in array(weights)[0]]\n",
    "print weights\n",
    "plotBestFit(weights)"
   ]
  },
  {
   "cell_type": "code",
   "execution_count": 127,
   "metadata": {},
   "outputs": [
    {
     "name": "stdout",
     "output_type": "stream",
     "text": [
      "[ 2  6 12]\n",
      "20\n",
      "[ 2  6 12]\n",
      "(3L,)\n"
     ]
    }
   ],
   "source": [
    "a = array([1,2,3])\n",
    "b = array([2,3,4])\n",
    "print a*b\n",
    "print a.dot(b)\n",
    "print a*(b.T)\n",
    "print b.T.shape"
   ]
  },
  {
   "cell_type": "markdown",
   "metadata": {},
   "source": [
    "## 随机梯度单样本"
   ]
  },
  {
   "cell_type": "code",
   "execution_count": 193,
   "metadata": {
    "collapsed": true
   },
   "outputs": [],
   "source": [
    "# 随机梯度\n",
    "def stocGradAscent1(dataMatrix, classLabels, numIter=150):\n",
    "    m,n = shape(dataMatrix)\n",
    "    weights = ones(n)   #initialize to all ones\n",
    "    for j in range(numIter):\n",
    "        dataIndex = range(m)\n",
    "        for i in range(m):\n",
    "            alpha = 4/(1.0+j+i)+0.0001    #apha decreases with iteration, does not \n",
    "            randIndex = int(random.uniform(0,len(dataIndex)))#go to 0 because of the constant\n",
    "            #h = sigmoid(sum(dataMatrix[randIndex]*weights))\n",
    "            h = sigmoid(dataMatrix[randIndex].dot(weights.T))\n",
    "            error = classLabels[randIndex] - h\n",
    "            weights = weights + alpha * error * dataMatrix[randIndex]\n",
    "            del(dataIndex[randIndex])\n",
    "    return weights"
   ]
  },
  {
   "cell_type": "code",
   "execution_count": 145,
   "metadata": {},
   "outputs": [
    {
     "name": "stdout",
     "output_type": "stream",
     "text": [
      "[[ 12.75677299   1.08825322  -1.93019329]]\n",
      "[12.756772993722107, 1.0882532157188791, -1.930193285673117]\n"
     ]
    },
    {
     "data": {
      "image/png": "[encoded data removed]",
      "text/plain": [
       "<matplotlib.figure.Figure at 0x79470b8>"
      ]
     },
     "metadata": {},
     "output_type": "display_data"
    }
   ],
   "source": [
    "weights = stocGradAscent1(mat(dataMat), labelMat)\n",
    "print weights\n",
    "weights = [i for i in array(weights)[0]]\n",
    "print weights\n",
    "plotBestFit(weights)"
   ]
  },
  {
   "cell_type": "markdown",
   "metadata": {},
   "source": [
    "## 性能测试"
   ]
  },
  {
   "cell_type": "code",
   "execution_count": 147,
   "metadata": {
    "collapsed": true
   },
   "outputs": [],
   "source": [
    "def classifyVector(inX, weights):\n",
    "    prob = sigmoid(sum(inX*weights))\n",
    "    if prob > 0.5: return 1.0\n",
    "    else: return 0.0"
   ]
  },
  {
   "cell_type": "code",
   "execution_count": 148,
   "metadata": {
    "collapsed": true
   },
   "outputs": [],
   "source": [
    "def colicTest():\n",
    "    frTrain = open('horseColicTraining.txt'); frTest = open('horseColicTest.txt')\n",
    "    trainingSet = []; trainingLabels = []\n",
    "    for line in frTrain.readlines():\n",
    "        currLine = line.strip().split('\\t')\n",
    "        lineArr =[]\n",
    "        for i in range(21):\n",
    "            lineArr.append(float(currLine[i]))\n",
    "        trainingSet.append(lineArr)\n",
    "        trainingLabels.append(float(currLine[21]))\n",
    "    trainWeights = stocGradAscent1(array(trainingSet), trainingLabels, 1000)\n",
    "    errorCount = 0; numTestVec = 0.0\n",
    "    for line in frTest.readlines():\n",
    "        numTestVec += 1.0\n",
    "        currLine = line.strip().split('\\t')\n",
    "        lineArr =[]\n",
    "        for i in range(21):\n",
    "            lineArr.append(float(currLine[i]))\n",
    "        if int(classifyVector(array(lineArr), trainWeights))!= int(currLine[21]):\n",
    "            errorCount += 1\n",
    "    errorRate = (float(errorCount)/numTestVec)\n",
    "    print \"the error rate of this test is: %f\" % errorRate\n",
    "    return errorRate"
   ]
  },
  {
   "cell_type": "code",
   "execution_count": 195,
   "metadata": {},
   "outputs": [
    {
     "name": "stderr",
     "output_type": "stream",
     "text": [
      "D:\\Anaconda2\\lib\\site-packages\\ipykernel\\__main__.py:3: RuntimeWarning: overflow encountered in exp\n",
      "  app.launch_new_instance()\n"
     ]
    },
    {
     "name": "stdout",
     "output_type": "stream",
     "text": [
      "the error rate of this test is: 0.447761\n"
     ]
    },
    {
     "data": {
      "text/plain": [
       "0.44776119402985076"
      ]
     },
     "execution_count": 195,
     "metadata": {},
     "output_type": "execute_result"
    }
   ],
   "source": [
    "colicTest()"
   ]
  },
  {
   "cell_type": "code",
   "execution_count": 150,
   "metadata": {
    "collapsed": true
   },
   "outputs": [],
   "source": [
    "def multiTest():\n",
    "    numTests = 10; errorSum=0.0\n",
    "    for k in range(numTests):\n",
    "        errorSum += colicTest()\n",
    "    print \"after %d iterations the average error rate is: %f\" % (numTests, errorSum/float(numTests))"
   ]
  },
  {
   "cell_type": "code",
   "execution_count": 151,
   "metadata": {},
   "outputs": [
    {
     "name": "stderr",
     "output_type": "stream",
     "text": [
      "D:\\Anaconda2\\lib\\site-packages\\ipykernel\\__main__.py:4: RuntimeWarning: overflow encountered in exp\n"
     ]
    },
    {
     "name": "stdout",
     "output_type": "stream",
     "text": [
      "the error rate of this test is: 0.343284\n",
      "the error rate of this test is: 0.417910\n",
      "the error rate of this test is: 0.268657\n",
      "the error rate of this test is: 0.388060\n",
      "the error rate of this test is: 0.343284\n",
      "the error rate of this test is: 0.283582\n",
      "the error rate of this test is: 0.358209\n",
      "the error rate of this test is: 0.388060\n",
      "the error rate of this test is: 0.223881\n",
      "the error rate of this test is: 0.253731\n",
      "after 10 iterations the average error rate is: 0.326866\n"
     ]
    }
   ],
   "source": [
    "multiTest()"
   ]
  }
 ],
 "metadata": {
  "kernelspec": {
   "display_name": "Python 3",
   "language": "python",
   "name": "python3"
  },
  "language_info": {
   "codemirror_mode": {
    "name": "ipython",
    "version": 3
   },
   "file_extension": ".py",
   "mimetype": "text/x-python",
   "name": "python",
   "nbconvert_exporter": "python",
   "pygments_lexer": "ipython3",
   "version": "3.6.1"
  },
  "toc": {
   "colors": {
    "hover_highlight": "#DAA520",
    "navigate_num": "#000000",
    "navigate_text": "#333333",
    "running_highlight": "#FF0000",
    "selected_highlight": "#FFD700",
    "sidebar_border": "#EEEEEE",
    "wrapper_background": "#FFFFFF"
   },
   "moveMenuLeft": true,
   "nav_menu": {
    "height": "317px",
    "width": "252px"
   },
   "navigate_menu": true,
   "number_sections": true,
   "sideBar": true,
   "threshold": 4,
   "toc_cell": false,
   "toc_position": {
    "height": "589px",
    "left": "0px",
    "right": "1192px",
    "top": "62px",
    "width": "174px"
   },
   "toc_section_display": "block",
   "toc_window_display": true,
   "widenNotebook": false
  }
 },
 "nbformat": 4,
 "nbformat_minor": 2
}

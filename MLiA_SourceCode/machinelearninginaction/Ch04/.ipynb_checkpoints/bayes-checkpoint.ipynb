{
 "cells": [
  {
   "cell_type": "markdown",
   "metadata": {},
   "source": [
    "# 朴素贝叶斯  \n",
    "**优点**：数据较少时，仍有效，可以处理多类别问题  \n",
    "**缺点**：对于输入数据的准备方式敏感？  \n",
    "适用数据类型：标称型  \n",
    "\n",
    "### 原理  \n",
    "p(ci|x) = p(x|ci)\\*p(ci)/p(x)  \n",
    "类条件概率：p(x|ci)  \n",
    "先验概率：p(ci)   \n",
    "后验概率：p(ci|x)  \n",
    "\n",
    "### 朴素贝叶斯假设  \n",
    "特征之间相互独立，那么训练需要的样本数将大大减少  \n",
    "假设有10个特征，每个特征需要N个样本，那么根据统计学可知，需要N^10个训练样本  \n",
    "而朴素贝叶斯只需要1000\\*N个样本  \n",
    "\n",
    "## 例子：python用于文本分类，过滤网站恶意留言"
   ]
  },
  {
   "cell_type": "code",
   "execution_count": 1,
   "metadata": {
    "collapsed": true
   },
   "outputs": [],
   "source": [
    "from numpy import *"
   ]
  },
  {
   "cell_type": "markdown",
   "metadata": {},
   "source": [
    "## 1.数据准备  \n",
    "从留言文本中构建词向量"
   ]
  },
  {
   "cell_type": "code",
   "execution_count": 3,
   "metadata": {
    "collapsed": true
   },
   "outputs": [],
   "source": [
    "def loadDataSet():\n",
    "    postingList=[['my', 'dog', 'has', 'flea', 'problems', 'help', 'please'],\n",
    "                 ['maybe', 'not', 'take', 'him', 'to', 'dog', 'park', 'stupid'],\n",
    "                 ['my', 'dalmation', 'is', 'so', 'cute', 'I', 'love', 'him'],\n",
    "                 ['stop', 'posting', 'stupid', 'worthless', 'garbage'],\n",
    "                 ['mr', 'licks', 'ate', 'my', 'steak', 'how', 'to', 'stop', 'him'],\n",
    "                 ['quit', 'buying', 'worthless', 'dog', 'food', 'stupid']]\n",
    "    classVec = [0,1,0,1,0,1]    #1 代表侮辱性文件, 0 正常言论\n",
    "    return postingList,classVec"
   ]
  },
  {
   "cell_type": "code",
   "execution_count": 56,
   "metadata": {
    "collapsed": true
   },
   "outputs": [],
   "source": [
    "def createVocabList(dataSet):\n",
    "    # 获得数据集中所有的出现的词汇\n",
    "    vocabSet = set([])  #创建一个空的集合\n",
    "    for document in dataSet:\n",
    "        vocabSet = vocabSet | set(document) #集合的并\n",
    "    # return list(vocabSet)\n",
    "    return [item for item in vocabSet]"
   ]
  },
  {
   "cell_type": "code",
   "execution_count": 55,
   "metadata": {
    "collapsed": false
   },
   "outputs": [
    {
     "name": "stdout",
     "output_type": "stream",
     "text": [
      "set\n",
      "<type 'set'>\n",
      "set([1, 2, 3, 6])\n",
      "[1, 2, 3]\n",
      "set([1, 2, 3])\n",
      "set([6])\n"
     ]
    }
   ],
   "source": [
    "mySet = set([6])\n",
    "\n",
    "typeStr = type(mySet).__name__\n",
    "print typeStr\n",
    "typeRet = type(mySet)\n",
    "print typeRet\n",
    "\n",
    "list1 = [1,2,3,6]\n",
    "list2 = [1,2,3,4,5]\n",
    "# 集合的并操作\n",
    "mySet = mySet | set(list)\n",
    "print mySet\n",
    "# 集合的交操作\n",
    "mySet = set(list1) & set(list2)\n",
    "set2List = [s for s in mySet]\n",
    "print set2List\n",
    "print mySet\n",
    "# 结合的差操作\n",
    "mySet = set(list1) - set(list2)\n",
    "print mySet"
   ]
  },
  {
   "cell_type": "code",
   "execution_count": 26,
   "metadata": {
    "collapsed": true
   },
   "outputs": [],
   "source": [
    "def setOfWords2Vec(vocabList, inputSet):\n",
    "    # 输入：词汇表，句子（由词汇组成的列表）\n",
    "    # 输出： 0,1向量\n",
    "    returnVec = [0]*len(vocabList)\n",
    "    for word in inputSet:\n",
    "        if word in vocabList:\n",
    "            returnVec[vocabList.index(word)] = 1\n",
    "        else: print \"the word: %s is not in my Vocabulary!\" % word\n",
    "    return returnVec"
   ]
  },
  {
   "cell_type": "code",
   "execution_count": 38,
   "metadata": {
    "collapsed": false
   },
   "outputs": [
    {
     "name": "stdout",
     "output_type": "stream",
     "text": [
      "[1, 2, 1, 2, 1, 2] 6\n",
      "[[0, 1], [2, 3], [0, 1], [2, 3], [0, 1], [2, 3]] 6\n",
      "[3 6]\n"
     ]
    }
   ],
   "source": [
    "# 列表和数组的操作不同\n",
    "l = [1,2]\n",
    "print l*3, len(l*3)\n",
    "l = [[0,1], [2,3]]\n",
    "print l*3, len(l*3)\n",
    "a = array([1,2])\n",
    "print a*3"
   ]
  },
  {
   "cell_type": "code",
   "execution_count": 42,
   "metadata": {
    "collapsed": false
   },
   "outputs": [
    {
     "name": "stdout",
     "output_type": "stream",
     "text": [
      "0\n",
      "3\n"
     ]
    }
   ],
   "source": [
    "# 列表操作\n",
    "listTest = [1,2,3,4]\n",
    "print listTest.index(1)\n",
    "print listTest.index(4)\n",
    "# 不存在列表中的操作报错\n",
    "# print listTest.index(-1)\n",
    "if -1 in listTest:\n",
    "    print listTest.index(-1) "
   ]
  },
  {
   "cell_type": "markdown",
   "metadata": {},
   "source": [
    "## 2.训练算法（从词向量计算概率）"
   ]
  },
  {
   "cell_type": "code",
   "execution_count": 48,
   "metadata": {
    "collapsed": true
   },
   "outputs": [],
   "source": [
    "def trainNB0(trainMatrix,trainCategory):\n",
    "    # 输入：文本处理后的array型数组集合， 文本标签\n",
    "    # 输出：两类的概率密度p(wj|ci)， 后验概率p(ci)\n",
    "    numTrainDocs = len(trainMatrix)\n",
    "    numWords = len(trainMatrix[0])                      #长度为所有词汇集合长度\n",
    "    pAbusive = sum(trainCategory)/float(numTrainDocs)   #侮辱性言论频率\n",
    "    p0Num = zeros(numWords); p1Num = zeros(numWords)      \n",
    "    p0Denom = 0.; p1Denom = 0.                        \n",
    "    # 根据类别，分别统计文本集合每个词出现的次数，计算频率\n",
    "    for i in range(numTrainDocs):\n",
    "        if trainCategory[i] == 1:\n",
    "            p1Num += trainMatrix[i]\n",
    "            p1Denom += sum(trainMatrix[i])\n",
    "        else:\n",
    "            p0Num += trainMatrix[i]\n",
    "            p0Denom += sum(trainMatrix[i])\n",
    "    p1Vect = p1Num/p1Denom        \n",
    "    p0Vect = p0Num/p0Denom\n",
    "    return p0Vect, p1Vect, pAbusive"
   ]
  },
  {
   "cell_type": "code",
   "execution_count": 77,
   "metadata": {
    "collapsed": false
   },
   "outputs": [
    {
     "name": "stdout",
     "output_type": "stream",
     "text": [
      "sum of p0V is : 1.0\n",
      "sum of p1V is : 1.0\n",
      "0.5\n"
     ]
    }
   ],
   "source": [
    "# 概率密度计算，先验概率计算测试\n",
    "listOPosts,listClasses = loadDataSet()\n",
    "myVocabList = createVocabList(listOPosts)\n",
    "trainMat=[]\n",
    "for postinDoc in listOPosts:\n",
    "    trainMat.append(setOfWords2Vec(myVocabList, postinDoc))\n",
    "p0V,p1V,pAb = trainNB0(array(trainMat),array(listClasses))\n",
    "print 'sum of p0V is :', sum(p0V)\n",
    "print 'sum of p1V is :', sum(p1V)\n",
    "print pAb"
   ]
  },
  {
   "cell_type": "code",
   "execution_count": 78,
   "metadata": {
    "collapsed": true
   },
   "outputs": [],
   "source": [
    "# 1.由于计算联合概率密度出现连乘的情况，出现为0的概率导致无意义\n",
    "# 2.下溢问题，使用log()相加代替相乘\n",
    "# 3.log(fx)和fx具有相同的极值处，求最大值时不影响\n",
    "\n",
    "def trainNB1(trainMatrix,trainCategory):\n",
    "    # 输入：文本处理后的array型数组集合， 文本标签\n",
    "    # 输出：两类的概率密度p(wj|ci)， 后验概率p(ci)\n",
    "    numTrainDocs = len(trainMatrix)\n",
    "    numWords = len(trainMatrix[0])                      #长度为所有词汇集合长度\n",
    "    pAbusive = sum(trainCategory)/float(numTrainDocs)   #侮辱性言论频率\n",
    "    p0Num = ones(numWords); p1Num = ones(numWords)      #change to ones() \n",
    "    p0Denom = 2.0; p1Denom = 2.0                        #change to 2.0\n",
    "    # 根据类别，分别统计文本集合每个词出现的次数，计算频率\n",
    "    for i in range(numTrainDocs):\n",
    "        if trainCategory[i] == 1:\n",
    "            p1Num += trainMatrix[i]\n",
    "            p1Denom += sum(trainMatrix[i])\n",
    "        else:\n",
    "            p0Num += trainMatrix[i]\n",
    "            p0Denom += sum(trainMatrix[i])\n",
    "    p1Vect = log(p1Num/p1Denom)          #change to log()\n",
    "    p0Vect = log(p0Num/p0Denom)          #change to log()\n",
    "    return p0Vect, p1Vect, pAbusive"
   ]
  },
  {
   "cell_type": "code",
   "execution_count": 85,
   "metadata": {
    "collapsed": false
   },
   "outputs": [
    {
     "data": {
      "image/png": "[encoded data removed]",
      "text/plain": [
       "<matplotlib.figure.Figure at 0x83ff240>"
      ]
     },
     "metadata": {},
     "output_type": "display_data"
    },
    {
     "data": {
      "image/png": "[encoded data removed]",
      "text/plain": [
       "<matplotlib.figure.Figure at 0x8874940>"
      ]
     },
     "metadata": {},
     "output_type": "display_data"
    }
   ],
   "source": [
    "import matplotlib.pyplot as plt\n",
    "x = arange(0.01, 0.5, 0.01)\n",
    "y = sin((x / 0.5)*pi)\n",
    "plt.plot(x,y)\n",
    "plt.xlabel('x')\n",
    "plt.ylabel('fx')\n",
    "plt.show()\n",
    "\n",
    "logy = log(y)\n",
    "plt.plot(x,logy)\n",
    "plt.xlabel('x')\n",
    "plt.ylabel('log(fx)')\n",
    "#plt.title('相同的增减性')\n",
    "plt.show()"
   ]
  },
  {
   "cell_type": "code",
   "execution_count": 84,
   "metadata": {
    "collapsed": true
   },
   "outputs": [],
   "source": [
    "def classifyNB(vec2Classify, p0Vec, p1Vec, pClass1):\n",
    "    p1 = sum(vec2Classify * p1Vec) + log(pClass1)    #element-wise mult\n",
    "    p0 = sum(vec2Classify * p0Vec) + log(1.0 - pClass1)\n",
    "    if p1 > p0:\n",
    "        return 1\n",
    "    else: \n",
    "        return 0"
   ]
  },
  {
   "cell_type": "code",
   "execution_count": 80,
   "metadata": {
    "collapsed": true
   },
   "outputs": [],
   "source": [
    "def testingNB():\n",
    "    listOPosts,listClasses = loadDataSet()\n",
    "    myVocabList = createVocabList(listOPosts)\n",
    "    trainMat=[]\n",
    "    for postinDoc in listOPosts:\n",
    "        trainMat.append(setOfWords2Vec(myVocabList, postinDoc))\n",
    "    p0V,p1V,pAb = trainNB0(array(trainMat),array(listClasses))\n",
    "    testEntry = ['love', 'my', 'dalmation']\n",
    "    thisDoc = array(setOfWords2Vec(myVocabList, testEntry))\n",
    "    print testEntry,'classified as: ',classifyNB(thisDoc,p0V,p1V,pAb)\n",
    "    testEntry = ['stupid', 'garbage']\n",
    "    thisDoc = array(setOfWords2Vec(myVocabList, testEntry))\n",
    "    print testEntry,'classified as: ',classifyNB(thisDoc,p0V,p1V,pAb)"
   ]
  },
  {
   "cell_type": "code",
   "execution_count": 81,
   "metadata": {
    "collapsed": false
   },
   "outputs": [
    {
     "name": "stdout",
     "output_type": "stream",
     "text": [
      "['love', 'my', 'dalmation'] classified as:  0\n",
      "['stupid', 'garbage'] classified as:  1\n"
     ]
    }
   ],
   "source": [
    "testingNB()"
   ]
  },
  {
   "cell_type": "code",
   "execution_count": 105,
   "metadata": {
    "collapsed": true
   },
   "outputs": [],
   "source": [
    "# 如果来的一个文档里面包含有重复的词，就不能简单得赋值为1了\n",
    "# 简单的词袋模型\n",
    "def bagOfWords2VecMN(vocabList, inputSet):\n",
    "    returnVec = [0]*len(vocabList)\n",
    "    for word in inputSet:\n",
    "        if word in vocabList:\n",
    "            returnVec[vocabList.index(word)] += 1\n",
    "    return returnVec"
   ]
  },
  {
   "cell_type": "markdown",
   "metadata": {},
   "source": [
    "## 3.例子：过滤垃圾邮件"
   ]
  },
  {
   "cell_type": "code",
   "execution_count": 100,
   "metadata": {
    "collapsed": true
   },
   "outputs": [],
   "source": [
    "# 怎么从一句话中分割出词语列表，忽略分割字符（除了字母和数字外）\n",
    "def textParse(bigString):    #input is big string, #output is word list\n",
    "    import re\n",
    "    listOfTokens = re.split(r'\\W*', bigString)\n",
    "    return [tok.lower() for tok in listOfTokens if len(tok) > 2] "
   ]
  },
  {
   "cell_type": "code",
   "execution_count": 94,
   "metadata": {
    "collapsed": false
   },
   "outputs": [
    {
     "name": "stdout",
     "output_type": "stream",
     "text": [
      "['Are', 'you', 'ok?', 'Hello', 'Indian', 'MI', 'fan?', 'I', 'will', 'give', 'you', 'all', 'a', 'free', 'mi', 'band...']\n",
      "['Are', 'you', 'ok', 'Hello', 'Indian', 'MI', 'fan', 'I', 'will', 'give', 'you', 'all', 'a', 'free', 'mi', 'band', '']\n",
      "['are', 'you', 'ok', 'hello', 'indian', 'mi', 'fan', 'i', 'will', 'give', 'you', 'all', 'a', 'free', 'mi', 'band']\n"
     ]
    }
   ],
   "source": [
    "mySent = 'Are you ok? Hello Indian MI fan? I will give you all a free mi band...'\n",
    "print mySent.split()\n",
    "listOfTokens = re.split(r'\\W*', mySent)\n",
    "print listOfTokens\n",
    "print [tok.lower() for tok in listOfTokens if len(tok) > 0]"
   ]
  },
  {
   "cell_type": "code",
   "execution_count": 115,
   "metadata": {
    "collapsed": true
   },
   "outputs": [],
   "source": [
    "# 刷屏spam邮件测试\n",
    "def spamTest():\n",
    "    # 初始化，文档列表，类别列表，所有邮件信息（做统计分词使用）\n",
    "    docList=[]; classList = []; fullText =[]\n",
    "    for i in range(1, 26):\n",
    "        wordList = textParse(open('email/spam/%d.txt' % i).read())\n",
    "        docList.append(wordList)\n",
    "        fullText.extend(wordList)\n",
    "        classList.append(1)\n",
    "        wordList = textParse(open('email/ham/%d.txt' % i).read())\n",
    "        docList.append(wordList)\n",
    "        fullText.extend(wordList)\n",
    "        classList.append(0)\n",
    "    \n",
    "    # 得到词汇表\n",
    "    vocabList = createVocabList(docList)#create vocabulary\n",
    "    trainingSet = range(50); testSet=[]           #create test set\n",
    "    # 随即选取10个样本作为测试样本\n",
    "    for i in range(10):\n",
    "        randIndex = int(random.uniform(0,len(trainingSet)))\n",
    "        testSet.append(trainingSet[randIndex])\n",
    "        # 作为测试样本的文档序号从训练集合中删除\n",
    "        del(trainingSet[randIndex])\n",
    "    \n",
    "    # 得到训练样本矩阵，和相对应的标签\n",
    "    trainMat=[]; trainClasses = []\n",
    "    for docIndex in trainingSet:#train the classifier (get probs) trainNB0\n",
    "        trainMat.append(bagOfWords2VecMN(vocabList, docList[docIndex]))\n",
    "        trainClasses.append(classList[docIndex])\n",
    "    # 计算先验概率和概率密度\n",
    "    p0V,p1V,pSpam = trainNB0(array(trainMat),array(trainClasses))\n",
    "    errorCount = 0\n",
    "    for docIndex in testSet:        #classify the remaining items\n",
    "        wordVector = bagOfWords2VecMN(vocabList, docList[docIndex])\n",
    "        if classifyNB(array(wordVector),p0V,p1V,pSpam) != classList[docIndex]:\n",
    "            errorCount += 1\n",
    "            #print \"classification error\",docList[docIndex]\n",
    "    #print 'the error rate is: ',float(errorCount)/len(testSet)\n",
    "    return float(errorCount)/len(testSet)\n",
    "    #print testSet\n",
    "    #return vocabList,fullText"
   ]
  },
  {
   "cell_type": "code",
   "execution_count": 116,
   "metadata": {
    "collapsed": false
   },
   "outputs": [
    {
     "data": {
      "text/plain": [
       "0.2"
      ]
     },
     "execution_count": 116,
     "metadata": {},
     "output_type": "execute_result"
    }
   ],
   "source": [
    "spamTest()"
   ]
  },
  {
   "cell_type": "markdown",
   "metadata": {},
   "source": [
    "## 留存交叉验证（hold_out cross validation）  \n",
    "在训练数据集合中抽出一部分做测试数据Test  \n",
    "然后用Train - Test数据验证Test  \n",
    "一般做N次，求错误率均值"
   ]
  },
  {
   "cell_type": "code",
   "execution_count": 117,
   "metadata": {
    "collapsed": false
   },
   "outputs": [
    {
     "name": "stdout",
     "output_type": "stream",
     "text": [
      "average error is : 0.292\n"
     ]
    }
   ],
   "source": [
    "sumE = 0.0\n",
    "for i in xrange(50):\n",
    "    sumE += spamTest()\n",
    "print 'average error is :', sumE / 50"
   ]
  },
  {
   "cell_type": "code",
   "execution_count": 131,
   "metadata": {
    "collapsed": false
   },
   "outputs": [],
   "source": [
    "def testBayes():\n",
    "    # 初始化文档和类别列表\n",
    "    docList = []\n",
    "    classList = []\n",
    "    # 读取文件信息，构建信息表\n",
    "    for i in range(1, 26):\n",
    "        docWordList = textParse(open('email/spam/%d.txt' % i).read())\n",
    "        docList.append(docWordList)\n",
    "        classList.append(1)\n",
    "        docWordList = textParse(open('email/ham/%d.txt' % i).read())\n",
    "        docList.append(docWordList)\n",
    "        classList.append(0)\n",
    "    vocabList = createVocabList(docList)\n",
    "    # 交叉验证，任意获得10个测试样本\n",
    "    indexTrain = range(50)\n",
    "    indexTest = []\n",
    "    for i in range(10):\n",
    "        index = int(random.uniform(1, len(indexTrain)))\n",
    "        indexTest.append(indexTrain[index])\n",
    "        del(indexTrain[index])\n",
    "    # 计算先验和概率密度\n",
    "    scaleMatTrain = []\n",
    "    for index in indexTrain:\n",
    "        scaleMatTrain.append(bagOfWords2VecMN(vocabList, docList[index]))\n",
    "    p0V, p1V, p = trainNB1(scaleMatTrain, classList)\n",
    "    # 测试样本测试\n",
    "    errorNum = 0.\n",
    "    for index in indexTest:\n",
    "        if classifyNB(bagOfWords2VecMN(vocabList, docList[index]), p0V, p1V, p) != classList[index]:\n",
    "            errorNum += 1\n",
    "    \n",
    "    print errorNum\n",
    "    \n",
    "    "
   ]
  },
  {
   "cell_type": "code",
   "execution_count": 134,
   "metadata": {
    "collapsed": false
   },
   "outputs": [
    {
     "name": "stdout",
     "output_type": "stream",
     "text": [
      "4.0\n"
     ]
    }
   ],
   "source": [
    "testBayes()"
   ]
  }
 ],
 "metadata": {
  "kernelspec": {
   "display_name": "Python 2",
   "language": "python",
   "name": "python2"
  },
  "language_info": {
   "codemirror_mode": {
    "name": "ipython",
    "version": 2
   },
   "file_extension": ".py",
   "mimetype": "text/x-python",
   "name": "python",
   "nbconvert_exporter": "python",
   "pygments_lexer": "ipython2",
   "version": "2.7.13"
  }
 },
 "nbformat": 4,
 "nbformat_minor": 2
}
